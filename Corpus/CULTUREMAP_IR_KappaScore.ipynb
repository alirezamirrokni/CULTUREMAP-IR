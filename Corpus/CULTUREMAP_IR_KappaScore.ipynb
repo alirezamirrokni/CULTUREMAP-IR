{
  "nbformat": 4,
  "nbformat_minor": 0,
  "metadata": {
    "colab": {
      "provenance": []
    },
    "kernelspec": {
      "name": "python3",
      "display_name": "Python 3"
    },
    "language_info": {
      "name": "python"
    }
  },
  "cells": [
    {
      "cell_type": "code",
      "execution_count": 11,
      "metadata": {
        "colab": {
          "base_uri": "https://localhost:8080/",
          "height": 52
        },
        "id": "R9emNvYaXkJU",
        "outputId": "ed6a7b2f-81b3-47b8-d18f-e78d318b4fb7"
      },
      "outputs": [
        {
          "output_type": "display_data",
          "data": {
            "text/plain": [
              "<IPython.core.display.Javascript object>"
            ],
            "application/javascript": [
              "\n",
              "    async function download(id, filename, size) {\n",
              "      if (!google.colab.kernel.accessAllowed) {\n",
              "        return;\n",
              "      }\n",
              "      const div = document.createElement('div');\n",
              "      const label = document.createElement('label');\n",
              "      label.textContent = `Downloading \"${filename}\": `;\n",
              "      div.appendChild(label);\n",
              "      const progress = document.createElement('progress');\n",
              "      progress.max = size;\n",
              "      div.appendChild(progress);\n",
              "      document.body.appendChild(div);\n",
              "\n",
              "      const buffers = [];\n",
              "      let downloaded = 0;\n",
              "\n",
              "      const channel = await google.colab.kernel.comms.open(id);\n",
              "      // Send a message to notify the kernel that we're ready.\n",
              "      channel.send({})\n",
              "\n",
              "      for await (const message of channel.messages) {\n",
              "        // Send a message to notify the kernel that we're ready.\n",
              "        channel.send({})\n",
              "        if (message.buffers) {\n",
              "          for (const buffer of message.buffers) {\n",
              "            buffers.push(buffer);\n",
              "            downloaded += buffer.byteLength;\n",
              "            progress.value = downloaded;\n",
              "          }\n",
              "        }\n",
              "      }\n",
              "      const blob = new Blob(buffers, {type: 'application/binary'});\n",
              "      const a = document.createElement('a');\n",
              "      a.href = window.URL.createObjectURL(blob);\n",
              "      a.download = filename;\n",
              "      div.appendChild(a);\n",
              "      a.click();\n",
              "      div.remove();\n",
              "    }\n",
              "  "
            ]
          },
          "metadata": {}
        },
        {
          "output_type": "display_data",
          "data": {
            "text/plain": [
              "<IPython.core.display.Javascript object>"
            ],
            "application/javascript": [
              "download(\"download_414af1b2-0b49-4bfa-8ee4-19431a126041\", \"kappa_summary.csv\", 228)"
            ]
          },
          "metadata": {}
        },
        {
          "output_type": "stream",
          "name": "stdout",
          "text": [
            "Annotators: Alireza vs Asal\n",
            "Overall Cohen's kappa: 0.9493811906256961\n"
          ]
        }
      ],
      "source": [
        "from pathlib import Path\n",
        "import json, csv, math\n",
        "from collections import Counter, defaultdict\n",
        "from google.colab import files\n",
        "\n",
        "FOLDER_PATH = Path(\"/content/Labled Data\")\n",
        "ANNOTATOR1 = None\n",
        "ANNOTATOR2 = None\n",
        "OUT_CSV    = Path(\"/content/kappa_summary.csv\")\n",
        "\n",
        "LABEL_MAP = {\"Acceptable\":0, \"Needs Revision\":1, \"Unacceptable\":2}\n",
        "CLASSES = [0,1,2]\n",
        "\n",
        "def is_leaf_record(d):\n",
        "    if not isinstance(d, dict): return False\n",
        "    if \"name\" not in d: return False\n",
        "    desc = d.get(\"description\", None)\n",
        "    if isinstance(desc, list) and any(isinstance(x, dict) for x in desc): return False\n",
        "    return True\n",
        "\n",
        "def extract_votes(obj):\n",
        "    out = {}\n",
        "    def walk(node, path=\"\"):\n",
        "        if isinstance(node, dict):\n",
        "            if is_leaf_record(node) and \"vote\" in node:\n",
        "                v = node.get(\"vote\")\n",
        "                if isinstance(v, list) and v and isinstance(v[0], dict):\n",
        "                    labs = v[0].get(\"labels\", [])\n",
        "                    if labs: out[path] = labs[0]\n",
        "            for k, v in node.items(): walk(v, path + \"/\" + str(k))\n",
        "        elif isinstance(node, list):\n",
        "            for i, x in enumerate(node): walk(x, path + f\"/{i}\")\n",
        "    walk(obj, \"\")\n",
        "    return out\n",
        "\n",
        "def cohen_kappa(labels_a, labels_b, classes):\n",
        "    n = len(labels_a)\n",
        "    conf = defaultdict(int)\n",
        "    count_a = Counter()\n",
        "    count_b = Counter()\n",
        "    for a,b in zip(labels_a, labels_b):\n",
        "        conf[(a,b)] += 1\n",
        "        count_a[a] += 1\n",
        "        count_b[b] += 1\n",
        "    po = sum(conf[(c,c)] for c in classes) / n\n",
        "    pe = sum((count_a[c]/n) * (count_b[c]/n) for c in classes)\n",
        "    if math.isclose(1.0 - pe, 0.0):\n",
        "        return 1.0 if math.isclose(po, 1.0) else 0.0\n",
        "    return (po - pe) / (1 - pe)\n",
        "\n",
        "annotators = [d.name for d in FOLDER_PATH.iterdir() if d.is_dir() and not d.name.startswith('.')]\n",
        "annotators.sort()\n",
        "if len(annotators) < 2:\n",
        "    raise RuntimeError(\"Need at least two annotator subfolders.\")\n",
        "\n",
        "a1 = ANNOTATOR1 or annotators[0]\n",
        "a2 = ANNOTATOR2 or annotators[1]\n",
        "provinces = sorted({p.name for p in (FOLDER_PATH / a1).glob(\"*.json\")})\n",
        "\n",
        "votes = {ann:{} for ann in [a1,a2]}\n",
        "for ann in [a1,a2]:\n",
        "    for prov in provinces:\n",
        "        fp = FOLDER_PATH / ann / prov\n",
        "        if fp.exists():\n",
        "            with open(fp, \"r\", encoding=\"utf-8\") as f:\n",
        "                data = json.load(f)\n",
        "            votes[ann][prov] = extract_votes(data)\n",
        "\n",
        "rows = []\n",
        "overall_a, overall_b = [], []\n",
        "for prov in provinces:\n",
        "    v1 = votes[a1].get(prov, {})\n",
        "    v2 = votes[a2].get(prov, {})\n",
        "    keys = sorted(set(v1.keys()) & set(v2.keys()))\n",
        "    la = [LABEL_MAP[v1[k]] for k in keys if v1.get(k) in LABEL_MAP and v2.get(k) in LABEL_MAP]\n",
        "    lb = [LABEL_MAP[v2[k]] for k in keys if v1.get(k) in LABEL_MAP and v2.get(k) in LABEL_MAP]\n",
        "    display_name = Path(prov).stem\n",
        "    if la and lb:\n",
        "        kappa = cohen_kappa(la, lb, CLASSES)\n",
        "        rows.append({\"province\": display_name, \"N\": len(la), \"kappa\": round(kappa, 4)})\n",
        "        overall_a.extend(la)\n",
        "        overall_b.extend(lb)\n",
        "    else:\n",
        "        rows.append({\"province\": display_name, \"N\": 0, \"kappa\": \"\"})\n",
        "\n",
        "overall_kappa = cohen_kappa(overall_a, overall_b, CLASSES) if overall_a else None\n",
        "rows.append({\"province\": \"__OVERALL__\", \"N\": len(overall_a), \"kappa\": round(overall_kappa,4) if overall_kappa is not None else \"\"})\n",
        "\n",
        "with open(OUT_CSV, \"w\", newline=\"\", encoding=\"utf-8-sig\") as f:\n",
        "    writer = csv.DictWriter(f, fieldnames=[\"province\",\"N\",\"kappa\"])\n",
        "    writer.writeheader()\n",
        "    for r in rows:\n",
        "        writer.writerow(r)\n",
        "\n",
        "files.download(str(OUT_CSV))\n",
        "print(f\"Annotators: {a1} vs {a2}\")\n",
        "print(f\"Overall Cohen's kappa: {overall_kappa}\")"
      ]
    },
    {
      "cell_type": "code",
      "source": [],
      "metadata": {
        "id": "J9EBrbx-X3yk"
      },
      "execution_count": null,
      "outputs": []
    }
  ]
}