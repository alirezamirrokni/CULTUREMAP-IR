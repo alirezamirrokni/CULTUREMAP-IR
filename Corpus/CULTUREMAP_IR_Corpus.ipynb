{
  "cells": [
    {
      "cell_type": "code",
      "execution_count": null,
      "metadata": {
        "id": "jNtkMNAcQaFA"
      },
      "outputs": [],
      "source": [
        "import os\n",
        "import json\n",
        "import time\n",
        "import asyncio\n",
        "import hashlib\n",
        "import datetime\n",
        "import re\n",
        "import random\n",
        "import subprocess\n",
        "import sys\n",
        "from urllib.parse import urljoin\n",
        "from difflib import SequenceMatcher\n",
        "\n",
        "try:\n",
        "    import nest_asyncio\n",
        "except ImportError:\n",
        "    subprocess.check_call([sys.executable, \"-m\", \"pip\", \"install\", \"nest_asyncio\"])\n",
        "    import nest_asyncio\n",
        "\n",
        "nest_asyncio.apply()\n",
        "\n",
        "try:\n",
        "    import httpx\n",
        "except ImportError:\n",
        "    subprocess.check_call([sys.executable, \"-m\", \"pip\", \"install\", \"httpx\"])\n",
        "    import httpx\n",
        "\n",
        "try:\n",
        "    from bs4 import BeautifulSoup\n",
        "except ImportError:\n",
        "    subprocess.check_call([sys.executable, \"-m\", \"pip\", \"install\", \"beautifulsoup4\"])\n",
        "    from bs4 import BeautifulSoup\n",
        "\n",
        "try:\n",
        "    from rich.progress import Progress, SpinnerColumn, BarColumn, TextColumn, TimeElapsedColumn, TimeRemainingColumn\n",
        "    from rich.console import Console\n",
        "except ImportError:\n",
        "    subprocess.check_call([sys.executable, \"-m\", \"pip\", \"install\", \"rich\"])\n",
        "    from rich.progress import Progress, SpinnerColumn, BarColumn, TextColumn, TimeElapsedColumn, TimeRemainingColumn\n",
        "    from rich.console import Console\n",
        "\n",
        "try:\n",
        "    import requests\n",
        "except ImportError:\n",
        "    subprocess.check_call([sys.executable, \"-m\", \"pip\", \"install\", \"requests\"])\n",
        "    import requests\n",
        "\n",
        "console = Console()"
      ]
    },
    {
      "cell_type": "code",
      "execution_count": null,
      "metadata": {
        "id": "4-xcLUpoQdK1"
      },
      "outputs": [],
      "source": [
        "class Config:\n",
        "    MIN_ITEMS_PER_CATEGORY = 50\n",
        "    MIN_TENSE_LEN = 40\n",
        "    MIN_FACTS = 10\n",
        "    MAX_REFINE_ROUNDS = 4\n",
        "    MODEL_MAX_TOKENS = 10000\n",
        "    MODEL_TEMPERATURE = 0.5\n",
        "    PROVINCE_RESOURCES = {\n",
        "        \"فارس\": [\n",
        "            \"https://fa.wikipedia.org/wiki/استان_فارس\",\n",
        "            \"https://fa.wikipedia.org/wiki/فهرست_شهرستان‌های_استان_فارس\",\n",
        "            \"https://www.kojaro.com/fars/\",\n",
        "            \"https://www.kojaro.com/shiraz/\",\n",
        "            \"https://lastsecond.ir/attractions/fars-province\",\n",
        "            \"https://lastsecond.ir/fars-province\",\n",
        "            \"https://www.karnaval.ir/things-to-do/list-fars-province\",\n",
        "            \"https://www.karnaval.ir/things-to-do/list-fars-province/the-best-nature-tourism-destinations-in-fars\",\n",
        "            \"https://ghasedak24.com/mag/experience/fars-attractions/\",\n",
        "            \"https://www.alibaba.ir/mag/fars/shiraz/shiraz-attractions/\",\n",
        "            \"https://arandtour.com/news.cfm?id=2237\",\n",
        "            \"https://hotelato.ir/gds/fa/mag/shiraz-waterfalls\",\n",
        "            \"https://seeiran.ir/10-%D8%AC%D8%A7%DB%8C-%D8%AF%DB%8C%D8%AF%D9%86%DB%8C-%D8%B4%DB%8C%D8%B1%D8%A7%D8%B2-%D8%AF%D8%B1-%D8%AA%D8%A7%D8%A8%D8%B3%D8%AA/\",\n",
        "            \"https://seeiran.ir/tag/%D8%AC%D8%A7%D9%87%D8%A7%DB%8C-%D8%AF%DB%8C%D8%AF%D9%86%DB%8C-%D9%81%D8%A7%D8%B1%D8%B3/\",\n",
        "            \"https://seeiran.ir/category/states/fars/shiraz/\",\n",
        "            \"https://fafarschto.ir/\",\n",
        "            \"https://farschto.ir/\",\n",
        "            \"https://radiogardesh.com/sights-of-fars/\",\n",
        "            \"https://www.flytoday.ir/blog/fars-province-attractions/\",\n",
        "            \"https://safarmarket.com/blog/shiraz-travel-guide\",\n",
        "            \"https://blog.safartop.com/travel-guide/places-to-visit-in-shiraz/\",\n",
        "            \"https://blog.flysepehran.com/fa/attractions/shiraz-tourist-attractions/\",\n",
        "            \"https://kojaplus.ir/%D8%B3%D9%81%D8%B1-3-%D8%B1%D9%88%D8%B2%D9%87-%D8%A8%D9%87-%D8%B4%DB%8C%D8%B1%D8%A7%D8%B2/\",\n",
        "            \"https://aminmana.com/tracks/shiraz1/\"\n",
        "        ],\n",
        "        \"اصفهان\": [\n",
        "            \"https://fa.wikipedia.org/wiki/استان_اصفهان\",\n",
        "            \"https://fa.wikipedia.org/wiki/اصفهان\",\n",
        "            \"https://fa.wikipedia.org/wiki/فهرست_شهرستان‌های_استان_اصفهان\",\n",
        "            \"https://www.kojaro.com/isfahan/\",\n",
        "            \"https://www.kojaro.com/esfahan/\",\n",
        "            \"https://www.kojaro.com/thingstodo/191519-attractions-around-isfahan/\",\n",
        "            \"https://lastsecond.ir/attractions/isfahan\",\n",
        "            \"https://lastsecond.ir/attractions/isfahan-province\",\n",
        "            \"https://lastsecond.ir/blog/9668-best-attractions-of-isfahan\",\n",
        "            \"https://jainjas.com/Blog/192/20-%D8%AA%D8%A7-%D8%A7%D8%B2-%D8%A8%D9%87%D8%AA%D8%B1%DB%8C%D9%86-%D8%AC%D8%A7%D8%B0%D9%87-%D9%87%D8%A7%DB%8C-%D8%A7%D8%B5%D9%81%D9%87%D8%A7%D9%86-%D8%A8%D8%B1%D8%A7%DB%8C-%DA%AF%D8%B1%D8%AF%D8%B4%D8%8C-%D8%AE%D8%B1%DB%8C%D8%AF-%D9%88-%D8%B4%DA%A9%D9%85-%DA%AF%D8%B1%D8%AF%DB%8C\",\n",
        "            \"https://jainjas.com/Blog/458/%D8%B1%D8%A7%D9%87%D9%86%D9%85%D8%A7%DB%8C-%D8%B3%D9%81%D8%B1-%D8%A7%D8%B5%D9%81%D9%87%D8%A7%D9%86\",\n",
        "            \"https://www.alibaba.ir/mag/isfahan/isfahan-ci/isfahan-sights/\",\n",
        "            \"https://safarmarket.com/blog/attractions/iran/isfahan/isfahan-attractions\",\n",
        "            \"https://safarmarket.com/blog/attractions/iran/isfahan/attractions-near-isfahan\",\n",
        "            \"https://blog.shab.ir/%D8%AC%D8%A7%D9%87%D8%A7%DB%8C-%D8%AF%DB%8C%D8%AF%D9%86%DB%8C-%D8%A7%D8%B5%D9%81%D9%87%D8%A7%D9%86/\",\n",
        "            \"https://fa.wikipedia.org/wiki/%D8%AC%D8%A7%D8%B0%D8%A8%D9%87%E2%80%8C%D9%87%D8%A7%DB%8C_%DA%AF%D8%B1%D8%AF%D8%B4%DA%AF%D8%B1%DB%8C_%D8%A7%D8%B3%D8%AA%D8%A7%D9%86_%D8%A7%D8%B5%D9%81%D8%A7%D9%86\",\n",
        "            \"https://seeiran.ir/10-%D8%AC%D8%A7%DB%8C-%D8%AF%DB%8C%D8%AF%D9%86%DB%8C-%D8%A7%D8%B5%D9%81%D9%87%D8%A7%D9%86-%D8%AF%D8%B1-%D8%AA%D8%A7%D8%A8%D8%B3%D8%AA/\",\n",
        "            \"https://seeiran.ir/%D8%AC%D8%A7%D9%87%D8%A7%DB%8C-%D8%AF%DB%8C%D8%AF%D9%86%DB%8C-%D8%A7%D8%B5%D9%81%D9%87%D8%A7%D9%86-%D8%AF%D8%B1-%D8%A8%D9%87%D8%A7%D8%B1/\",\n",
        "            \"https://anajournal.ir/gardeshgari/makanhaye-didani-zarrinshahr/\",\n",
        "            \"https://wanderlog.com/place/details/10042872/simorgh-amusement-park\",\n",
        "            \"https://en.wikipedia.org/wiki/Dream_Land_Isfahan\",\n",
        "            \"https://lastsecond.ir/attractions/tiran-and-karvan\",\n",
        "            \"https://www.isfahanvisit.ir/fa/articles/105-esfahan-springs-list\",\n",
        "            \"https://www.flytoday.ir/blog/isfahan-historical-attractions/\",\n",
        "            \"https://www.eghamat24.com/blog/8765/list-of-isfahan-amusement-centers\",\n",
        "            \"https://lastsecond.ir/blog/11150-isfahan-entertainments\",\n",
        "            \"https://www.otaghak.com/blog/isfahan-entertainment-centers/\",\n",
        "            \"https://3click.com/blog/free-entertainment-in-isfahan/\",\n",
        "            \"https://lastsecond.ir/blog/11087-sightseeing-places-around-isfahan\",\n",
        "            \"https://www.pateh.com/blog/sightseeing-places-in-isfahan/\"\n",
        "        ],\n",
        "        \"بوشهر\": [\n",
        "            \"https://fa.wikipedia.org/wiki/استان_بوشهر\",\n",
        "            \"https://fa.wikipedia.org/wiki/گردشگری_در_بوشهر\",\n",
        "            \"https://ostb.ir/\",\n",
        "            \"https://www.chtn.ir/news/1402120800367/%D8%AC%D8%A7%D9%87%D8%A8%D9%87-%D9%87%D8%A7%DB%8C-%DA%AF%D8%B1%D8%AF%D8%B4%DA%AF%D8%B1%DB%8C-%D8%AA%D8%A7%D8%B1%DB%8C%D8%AE%DB%8C-%D9%88-%D8%B7%D8%A8%DB%8C%D8%B9%DB%8C-%D8%A7%D8%B3%D8%AA%D8%A7%D9%86-%D8%A8%D9%88%D8%B4%D9%87%D8%B1\",\n",
        "            \"https://www.kojaro.com/bandar-bushehr/\",\n",
        "            \"https://www.kojaro.com/bushehr/\",\n",
        "            \"https://www.alibaba.ir/mag/bushehr/bushehr-ci/travel-to-bushehr-province/\",\n",
        "            \"https://www.karnaval.ir/things-to-do/list-bushehr-province\",\n",
        "            \"https://www.eghamat24.com/blog/31336/bushehr-attractions\",\n",
        "            \"https://safarmarket.com/blog/attractions/iran/bushehr/bushehr-attractions\",\n",
        "            \"https://seeiran.ir/tag/%D8%AC%D8%A7%D9%87%D8%A7%DB%8C-%D8%AF%DB%8C%D8%AF%D9%86%DB%8C-%D8%A8%D9%88%D8%B4%D9%87%D8%B1/\",\n",
        "            \"https://seeiran.ir/category/states/boshehr/\",\n",
        "            \"https://seeiran.ir/%D8%AC%D8%A7%D9%87%D8%A7%DB%8C-%D8%AF%DB%8C%D8%AF%D9%86%DB%8C-%D8%A8%D9%88%D8%B4%D9%87%D8%B1-%D8%AF%D8%B1-%D8%B2%D9%85%D8%B3%D8%AA%D8%A7%D9%86/\",\n",
        "            \"https://seeiran.ir/%D8%AC%D8%A7%D9%87%D8%A7%DB%8C-%D9%87%D8%A7%DB%8C-%D8%AA%D8%A7%D8%B1%DB%8C%D8%AE%DB%8C-%D8%A8%D9%88%D8%B4%D9%87%D8%B1/\",\n",
        "            \"https://seeiran.ir/tag/%D8%AC%D8%A7%D9%87%DB%8C-%D8%AA%D8%A7%D8%B1%DB%8C%D8%AE%DB%8C-%D8%A8%D9%88%D8%B4%D9%87%D8%B1/\",\n",
        "            \"https://mirasbushehr.ir/\",\n",
        "            \"https://www.eghamat24.com/blog/31336/bushehr-attractions\",\n",
        "            \"https://www.eligasht.com/Blog/tourism/%D8%AC%D8%A7%D8%B0%D8%A8%D9%87-%D9%87%D8%A7%DB%8C-%D8%A8%D9%88%D8%B4%D9%87%D8%B1/\",\n",
        "            \"https://www.iranhotelonline.com/blog/post-1564/%D8%AC%D8%A7%D9%87%D8%A7%DB%8C-%D8%AF%DB%8C%D8%AF%D9%86%DB%8C-%D8%A8%D9%88%D8%B4%D9%87%D8%B1-%D8%A8%D8%A7-%D8%B9%DA%A9%D8%B3-%D9%88-%D8%A2%D8%AF%D8%B1%D8%B3/\"\n",
        "        ],\n",
        "        \"چهارمحال و بختیاری\": [\n",
        "            \"https://fa.wikipedia.org/wiki/استان_%DA%86%D9%87%D8%A7%D8%B1%D9%85%D8%AD%D8%A7%D9%84_%D9%88_%D8%A8%D8%AE%D8%AA%DB%8C%D8%A7%D8%B1%DB%8C\",\n",
        "            \"https://www.ostan-chb.ir/\",\n",
        "            \"https://emroozkojaberim.com/news.cfm?id=107\",\n",
        "            \"https://www.karnaval.ir/things-to-do/list-chaharmahal-and-bakhtiari-province\",\n",
        "            \"https://emroozkojaberim.com/destinationlist.cfm\",\n",
        "            \"https://youtopin.com/mag/chaharmahal-and-bakhtiari-attractions/\",\n",
        "            \"https://fa.wikipedia.org/wiki/%D9%81%D9%87%D8%B1%D8%A7%D8%B3%D8%AA_%D8%B4%D9%87%D8%B1%D9%87%D8%A7%DB%8C_%D8%A7%D8%B3%D8%AA%D8%A7%D9%86_%DA%86%D9%87%D8%A7%D8%B1%D9%85%D8%AD%D8%A7%D9%84_%D9%88_%D8%A8%D8%AE%D8%AA%DB%8C%D8%A7%D8%B1%DB%8C\",\n",
        "            \"https://seeiran.ir/10-%D8%AC%D8%A7%DB%8C-%D8%AF%DB%8C%D8%AF%D9%86%DB%8C-%DA%86%D9%87%D8%A7%D8%B1-%D9%85%D8%AD%D8%A7%D9%84-%D9%88-%D8%A8%D8%AE%D8%AA%DB%8C%D8%A7%D8%B1%DB%8C-%D8%AF%D8%B1-%D8%AA%D8%A7%D8%A8%D8%B3%D8%AA/\",\n",
        "            \"https://seeiran.ir/tag/%D8%AC%D8%A7%D9%87%D8%A7%DB%8C-%D8%AF%DB%8C%D8%AF%D9%86%DB%8C-%D8%B4%D9%87%D8%B1%DA%A9%D8%B1%D8%AF/\",\n",
        "            \"https://seeiran.ir/%D8%AC%D8%A7%D9%87%D8%A7%DB%8C-%D8%AF%DB%8C%D8%AF%D9%86%DB%8C-%D8%B4%D9%87%D8%B1%DA%A9%D8%B1%D8%AF-%D8%AF%D8%B1-%D8%A8%D9%87%D8%A7%D8%B1/\",\n",
        "            \"https://seeiran.ir/category/states/chaharmahal-vbakhtiyari/\",\n",
        "            \"https://seeiran.ir/category/states/chaharmahal-vbakhtiyari/shahrekord/\",\n",
        "            \"https://seeiran.ir/tag/%D8%AF%DB%8C%D8%AF%D9%86%DB%8C%D9%87%D8%A7%DB%8C-%D8%A7%D8%B1%D8%AF%DB%8C/\",\n",
        "            \"https://seeiran.ir/%D8%B1%D9%88%D8%B3%D8%AA%D8%A7%DB%8C-%D8%AA%D9%88%D8%B1%DB%8C%D8%B3%D8%AA%DB%8C-%D8%AF%D9%87-%DA%86%D8%B4%D9%85%D9%87-%D9%81%D8%A7%D8%B1%D8%B3%D8%A7%D9%86/\",\n",
        "            \"https://seeiran.ir/tag/%DA%AF%D8%B1%D8%AF%D8%B4%DA%AF%D8%B1%DB%8C-%D8%A7%D8%B3%D8%AA%D8%A7%D9%86-%DA%86%D9%87%D8%A7%D8%B1%D9%85%D8%AD%D8%A7%D9%84-%D9%88-%D8%A8%D8%AE%D8%AA%DB%8C%D8%A7%D8%B1%DB%8C/\",\n",
        "            \"https://www.flytoday.ir/blog/chaharmahal-and-bakhtiari-attractions/\",\n",
        "            \"https://www.kojaro.com/chaharmahal-and-bakhtiari/\",\n",
        "            \"https://www.eligasht.com/Blog/travelguide/%D8%AC%D8%A7%D8%B0%D8%A8%D9%87-%D9%87%D8%A7%DB%8C-%D8%AF%DB%8C%D8%AF%D9%86%DB%8C-%DA%86%D9%87%D8%A7%D8%B1%D9%85%D8%AD%D8%A7%D9%84-%D9%88-%D8%A8%D8%AE%D8%AA%DB%8C%D8%A7%D8%B1%DB%8C-%D8%AA%D8%B5%D9%88/\",\n",
        "            \"https://blog.shab.ir/sights-of-chaharmahal-and-bakhtiari/\"\n",
        "        ],\n",
        "        \"هرمزگان\": [\n",
        "            \"https://fa.wikipedia.org/wiki/%D8%A7%D8%B3%D8%A7%D9%86_%D9%87%D8%B1%D9%85%D8%B2%DA%AF%D8%A7%D9%86\",\n",
        "            \"https://hchto.ir/\",\n",
        "            \"https://www.istta.ir/tourism/fa/58/8\",\n",
        "            \"https://safarmarket.com/blog/attractions/iran/hormozgan-attractions\",\n",
        "            \"https://www.flytoday.ir/blog/hormozgan-attractions/\",\n",
        "            \"https://youtopin.com/mag/attractions-in-hormozgan/\",\n",
        "            \"https://www.otaghak.com/blog/attractions-of-hormozgan/\",\n",
        "            \"https://www.alibaba.ir/mag/hormozgan/hormozgan-attractions/\",\n",
        "            \"https://www.hoteldebitcard.com/fa/blog/Iran-tourism/hormozgan/\",\n",
        "            \"https://www.hormozgantoday.ir/tag/%D8%A7%D8%AF%D8%A7%D9%87-%DA%A9%D9%84-%D9%85%DB%8C%D8%B1%D8%A7%D8%AB-%D9%81%D8%B1%D9%87%D9%86%DA%AF%DB%8C-%D9%87%D8%B1%D9%85%D8%B2%DA%AF%D8%A7%D9%86/\",\n",
        "            \"https://amagestate.com/%D9%87%D8%B1%D9%85%D8%B2%DA%AF%D8%A7%D9%86%D8%8C%D8%AC%D9%88%D8%A7%D9%87%D8%B1%DB%8C-%D8%AF%D8%B1-%D8%AF%D9%84-%D8%AC%D9%86%D9%88%D8%A8-%D8%A7%DB%8C%D8%B1%D8%A7%D9%86/\",\n",
        "            \"https://www.flytoday.ir/blog/hormozgan-attractions/\",\n",
        "            \"https://safarmarket.com/blog/attractions/iran/hormozgan-attractions\",\n",
        "            \"https://www.pateh.com/blog/sightseeing-places-in-hormozgan/\"\n",
        "        ],\n",
        "        \"کهگیلویه و بویراحمد\": [\n",
        "            \"https://fa.wikipedia.org/wiki/استان_کهگیلویه_و_بویراحمد\",\n",
        "            \"https://fa.wikipedia.org/wiki/فهرست_شهرستان‌های_استان_کهگیلویه_و_بویراحمد\",\n",
        "            \"https://www.kojaro.com/iran-visit/165719-%DA%A9%D9%87%DA%AF%DB%8C%D9%84%D9%88%DB%8C%D9%87-%D8%A8%D9%88%DB%8C%D8%B1%D8%A7%D8%AD%D9%85%D8%AF/\",\n",
        "            \"https://www.kojaro.com/kohgiluyeh-and-boyer-ahmad/\",\n",
        "            \"https://www.kojaro.com/travel-guide-tips-tricks/304396-Kohgiluyeh-and-Boyer-Ahmad/\",\n",
        "            \"https://lastsecond.ir/attractions/kohgiluyeh-and-boyer\",\n",
        "            \"https://www.karnaval.ir/things-to-do/list-kohgiluyeh-and-boyer-ahmad-province\",\n",
        "            \"https://radiogardesh.com/sightseeing-places-of-kohgiluyeh-and-boyerahmad/\",\n",
        "            \"https://seeiran.ir/سفر-به-جاذبه-های-دیدنی-کهگیلویه-و-بویراحمد-در-تابستان/\",\n",
        "            \"https://seeiran.ir/کهگیلویه،-رنگین-کمانی-از-مناطق-گردشگری/\",\n",
        "            \"https://safarmarket.com/blog/attractions/iran/yasuj\",\n",
        "            \"https://www.flytoday.ir/blog/kohgiluyeh-and-boyer-ahmad-attractions/\",\n",
        "            \"https://roomtoor.com/blog/getting-to-know-the-gorges-and-waterfalls-of-kohgiluyeh-and-boyer-ahmad\",\n",
        "            \"https://www.iranhotelonline.com/blog/post-2715/شهرهای-دیدنی-استان-کهگیلویه-و-بویراحمد/\",\n",
        "            \"https://www.visitiran.ir/fa/province/استان-کهگیلویه-و-بویراحمد\",\n",
        "            \"https://ittic.com/hotels/travel_info/?qj=fHQeZn5kX2cldnUydCI6InVwvVRDIrwrMaMaLTF5MHI6ImQlBn11Tl9sZXReHUBrvw2\",\n",
        "            \"https://www.alibaba.ir/mag/kohgiluyeh-boyer-ahmad/yasuj/yasuj-attractions/\",\n",
        "            \"https://www.alibaba.ir/mag/kohgiluyeh-boyer-ahmad/belqeis-lake/\",\n",
        "        ]\n",
        "    }\n",
        "\n",
        "    SUBCATEGORY_SCHEMA = {\n",
        "        \"geographical_features\": [\"رودخانه‌ها\", \"کوه‌ها\", \"دریاچه‌ها\", \"پوشش گیاهی\"],\n",
        "        \"topography\": [\"اقلیم منطقه\", \"دشت‌ها و فلات‌ها\", \"ویژگی‌های زمین‌شناسی\"],\n",
        "        \"natural_resources\": [\"منابع آبی\", \"منابع معدنی\"]\n",
        "    }"
      ]
    },
    {
      "cell_type": "code",
      "execution_count": null,
      "metadata": {
        "id": "HVxroxdzQgVp"
      },
      "outputs": [],
      "source": [
        "class CacheManager:\n",
        "    def __init__(self, base_dir=\"cache\", ttl_hours=24):\n",
        "        self.base_dir = base_dir\n",
        "        self.ttl = datetime.timedelta(hours=ttl_hours)\n",
        "        os.makedirs(self.base_dir, exist_ok=True)\n",
        "\n",
        "    def _path(self, url):\n",
        "        h = hashlib.sha256(url.encode(\"utf-8\")).hexdigest()\n",
        "        return os.path.join(self.base_dir, h)\n",
        "\n",
        "    def get(self, url):\n",
        "        p = self._path(url)\n",
        "        html_path = p + \".html\"\n",
        "        meta_path = p + \".json\"\n",
        "        if os.path.exists(html_path) and os.path.exists(meta_path):\n",
        "            with open(meta_path, \"r\", encoding=\"utf-8\") as f:\n",
        "                meta = json.load(f)\n",
        "            ts = datetime.datetime.fromisoformat(meta.get(\"fetched_at\"))\n",
        "            if datetime.datetime.utcnow() - ts < self.ttl:\n",
        "                with open(html_path, \"r\", encoding=\"utf-8\", errors=\"ignore\") as f:\n",
        "                    return f.read(), meta.get(\"status_code\"), meta.get(\"headers\", {})\n",
        "        return None, None, None\n",
        "\n",
        "    def set(self, url, html, status_code, headers):\n",
        "        p = self._path(url)\n",
        "        html_path = p + \".html\"\n",
        "        meta_path = p + \".json\"\n",
        "        with open(html_path, \"w\", encoding=\"utf-8\") as f:\n",
        "            f.write(html)\n",
        "        meta = {\n",
        "            \"fetched_at\": datetime.datetime.utcnow().isoformat(),\n",
        "            \"status_code\": status_code,\n",
        "            \"headers\": dict(headers),\n",
        "        }\n",
        "        with open(meta_path, \"w\", encoding=\"utf-8\") as f:\n",
        "            json.dump(meta, f, ensure_ascii=False, indent=2)"
      ]
    },
    {
      "cell_type": "code",
      "execution_count": null,
      "metadata": {
        "id": "TCjihVaJQlh2"
      },
      "outputs": [],
      "source": [
        "class ResourceFetcher:\n",
        "    def __init__(self, cache_manager):\n",
        "        self.cache = cache_manager\n",
        "\n",
        "    async def fetch_single(self, client, url):\n",
        "        cached_html, status, headers = self.cache.get(url)\n",
        "        if cached_html is not None:\n",
        "            return url, cached_html, status, headers, True\n",
        "        try:\n",
        "            resp = await client.get(url, follow_redirects=True, timeout=20.0)\n",
        "            html = resp.text\n",
        "            self.cache.set(url, html, resp.status_code, resp.headers)\n",
        "            return url, html, resp.status_code, dict(resp.headers), False\n",
        "        except Exception:\n",
        "            return url, None, None, None, False\n",
        "\n",
        "    async def scrape(self, province, urls, progress, task_id):\n",
        "        async with httpx.AsyncClient(headers={\"User-Agent\": \"Mozilla/5.0\"}) as client:\n",
        "            fetch_tasks = [self.fetch_single(client, u) for u in urls]\n",
        "            results = []\n",
        "            for f in asyncio.as_completed(fetch_tasks):\n",
        "                url, html, status_code, headers, from_cache = await f\n",
        "                results.append((url, html, status_code, headers, from_cache))\n",
        "                progress.update(task_id, advance=1)\n",
        "            processed = []\n",
        "            for url, html, status_code, headers, from_cache in results:\n",
        "                if not html:\n",
        "                    continue\n",
        "                base = url\n",
        "                soup = BeautifulSoup(html, \"html.parser\")\n",
        "                for tag in soup([\"script\", \"style\"]):\n",
        "                    tag.decompose()\n",
        "                texts = []\n",
        "                for tag in soup.find_all([\"p\", \"li\", \"h1\", \"h2\", \"h3\", \"h4\"]):\n",
        "                    txt = tag.get_text(separator=\" \", strip=True)\n",
        "                    if txt:\n",
        "                        texts.append(txt)\n",
        "                full_text = \"\\n\".join(texts)\n",
        "                images = []\n",
        "                for img in soup.find_all(\"img\"):\n",
        "                    src = img.get(\"src\") or img.get(\"data-src\") or \"\"\n",
        "                    if not src:\n",
        "                        continue\n",
        "                    abs_url = urljoin(base, src)\n",
        "                    images.append(abs_url)\n",
        "                valid_images = await self.validate_images(client, images, limit=4)\n",
        "                lower_text = full_text.lower()\n",
        "                matched = {}\n",
        "                for cat in Config.SUBCATEGORY_SCHEMA.keys():\n",
        "                    for keyword in Config.SUBCATEGORY_SCHEMA.get(cat, []):\n",
        "                        if keyword.lower() in lower_text:\n",
        "                            matched.setdefault(cat, []).append(keyword)\n",
        "                sentences = self.extract_sentences(full_text)\n",
        "                summary = {}\n",
        "                for cat in Config.SUBCATEGORY_SCHEMA.keys():\n",
        "                    keywords = [kw.lower() for kw in Config.SUBCATEGORY_SCHEMA.get(cat, [])]\n",
        "                    scored = self.score_sentences(sentences, keywords)\n",
        "                    summary[cat] = scored[:5]\n",
        "                title_tag = soup.title.string.strip() if soup.title and soup.title.string else \"\"\n",
        "                processed.append(\n",
        "                    {\n",
        "                        \"url\": url,\n",
        "                        \"title\": title_tag,\n",
        "                        \"status_code\": status_code,\n",
        "                        \"from_cache\": from_cache,\n",
        "                        \"matched_categories\": matched,\n",
        "                        \"summary_sentences\": summary,\n",
        "                        \"images\": valid_images,\n",
        "                        \"full_text\": full_text,\n",
        "                    }\n",
        "                )\n",
        "            return processed\n",
        "\n",
        "    @staticmethod\n",
        "    def extract_sentences(text):\n",
        "        parts = re.split(r\"(?<=[\\.!\\?؟])\\s+\", text)\n",
        "        return [p.strip() for p in parts if p.strip()]\n",
        "\n",
        "    @staticmethod\n",
        "    def score_sentences(sentences, keywords):\n",
        "        scores = []\n",
        "        for s in sentences:\n",
        "            sc = 0\n",
        "            low = s.lower()\n",
        "            for kw in keywords:\n",
        "                if kw in low:\n",
        "                    sc += low.count(kw)\n",
        "            scores.append((sc, s))\n",
        "        scores.sort(reverse=True, key=lambda x: x[0])\n",
        "        return [s for sc, s in scores if sc > 0]\n",
        "\n",
        "    @staticmethod\n",
        "    async def validate_images(client, image_urls, limit=3):\n",
        "        validated = []\n",
        "        tasks = []\n",
        "        for u in image_urls[:limit]:\n",
        "            tasks.append(client.head(u, follow_redirects=True, timeout=5.0))\n",
        "        for f in asyncio.as_completed(tasks):\n",
        "            try:\n",
        "                resp = await f\n",
        "                ctype = resp.headers.get(\"content-type\", \"\")\n",
        "                if resp.status_code == 200 and \"image\" in ctype:\n",
        "                    if hasattr(resp, \"url\"):\n",
        "                        validated.append(str(resp.url))\n",
        "                    else:\n",
        "                        validated.append(resp.request.url)\n",
        "            except:\n",
        "                continue\n",
        "        return validated"
      ]
    },
    {
      "cell_type": "code",
      "execution_count": null,
      "metadata": {
        "id": "Z4E4SO_DQrHg"
      },
      "outputs": [],
      "source": [
        "class PromptBuilder:\n",
        "    @staticmethod\n",
        "    def normalize_name(name):\n",
        "        import unicodedata\n",
        "        s = unicodedata.normalize(\"NFKD\", name)\n",
        "        s = \"\".join(c for c in s if not unicodedata.combining(c))\n",
        "        s = re.sub(r\"\\s+\", \"\", s)\n",
        "        s = re.sub(r\"[^\\w]\", \"\", s, flags=re.UNICODE)\n",
        "        return s.lower()\n",
        "\n",
        "    @staticmethod\n",
        "    def build_category_prompt(province, category_key, resources, existing_names=None, remaining_needed=None, subcategory=None):\n",
        "        header = f\"استان: {province}\\nدسته‌بندی: {category_key}\\n\"\n",
        "        if subcategory:\n",
        "            header += f\"تمرکز روی زیردسته: {subcategory}\\n\"\n",
        "        src_section = \"Extracted sources and relevant snippets:\\n\"\n",
        "        for r in resources:\n",
        "            src_section += f\"- URL: {r['url']}\\n\"\n",
        "            if r.get(\"title\"):\n",
        "                src_section += f\"  Title: {r['title']}\\n\"\n",
        "            if category_key in r.get(\"matched_categories\", {}):\n",
        "                kws = r[\"matched_categories\"][category_key]\n",
        "                src_section += f\"  Detected keywords: {', '.join(kws)}\\n\"\n",
        "            summary = r.get(\"summary_sentences\", {}).get(category_key, [])\n",
        "            if summary:\n",
        "                src_section += \"  Summary sentences:\\n\"\n",
        "                for s in summary[:3]:\n",
        "                    src_section += f\"    * {s}\\n\"\n",
        "            if r.get(\"images\"):\n",
        "                for img in r[\"images\"][:3]:\n",
        "                    src_section += f\"  Image: {img}\\n\"\n",
        "            src_section += \"\\n\"\n",
        "        schema_desc = \"\"\n",
        "        if category_key in [\"geographical_features\", \"topography\", \"natural_resources\"]:\n",
        "            subs = Config.SUBCATEGORY_SCHEMA.get(category_key, [])\n",
        "            schema_desc += \"Expected subcategories (if available):\\n\"\n",
        "            for s in subs:\n",
        "                schema_desc += f\"- {s}\\n\"\n",
        "            schema_desc += (\n",
        "                \"Output must be a JSON array of objects. Each object should have:\\n\"\n",
        "                '{\"name\": \"<subcategory name>\", \"description\": [ {\"name\": \"<item name>\", \"images\": [\"<image urls>\"], '\n",
        "                '\"description\": \"<short scientific description>\"} , ... ] }\\n'\n",
        "                \"If no clear subcategories, you can wrap flat items under one object named after the category.\\n\"\n",
        "            )\n",
        "        elif category_key == \"tourist_attractions\":\n",
        "            schema_desc += (\n",
        "                \"Output must be a JSON array of tourist attraction objects with fields:\\n\"\n",
        "                '{\"name\":\"<name>\",\"images\":[\"<image urls>\"],\"year_built\":\"<if known>\",\"architect\":\"<if known>\",'\n",
        "                '\"constructor\":\"<if known>\",\"description\":\"<short description>\"}\\n'\n",
        "            )\n",
        "\n",
        "        instruction = (\n",
        "            f\"Include all the information present in the attached text and add your own only if you are certain, writing it in the description with at least {Config.MIN_TENSE_LEN} words. \"\n",
        "            \"In the description, avoid general or broad explanations; include only specific, precise, and relevant information about that item. \"\n",
        "            f\"Each entry must include at least {Config.MIN_FACTS} documented informational attributes; if those attributes have explicit fields in the schema, populate those fields (e.g., creator in the 'سازنده' field), otherwise include them in the 'description'. \"\n",
        "            \"Structure each item so that one could pose at least five detailed questions about it—such as creator, date of creation, location, natural or architectural features, and cultural or historical significance. \"\n",
        "            f\"You must provide at least {Config.MIN_ITEMS_PER_CATEGORY} distinct, non-repetitive entries for this category. \"\n",
        "            \"Use only the sources above and internal knowledge you are certain about. Do not hallucinate. \"\n",
        "            \"If this is a refinement round, do not repeat existing items listed below.\"\n",
        "            \"Under no circumstances should an image be assigned to an item unless there is indisputable, explicit, and independently verifiable evidence proving that the image depicts the exact item in question. Vague indicators, partial matches, or assumptions based on visual similarity are categorically unacceptable. The image URL itself must contain the full, unambiguous name of the item or an officially recognized abbreviation that is directly tied to the item—generic terms or loosely associated references are insufficient. If even the slightest doubt remains about the image’s authenticity or relevance, it must not be used. Err strictly on the side of omission rather than risk incorrect attribution.\"\n",
        "        )\n",
        "\n",
        "        extras = \"\"\n",
        "        if existing_names:\n",
        "            extras += \"Already provided item names (normalized, avoid duplicates):\\n\"\n",
        "            for nm in sorted(existing_names):\n",
        "                extras += f\"- {nm}\\n\"\n",
        "            if remaining_needed:\n",
        "                extras += f\"Need at least {remaining_needed} additional unique items to reach the target.\\n\"\n",
        "        prompt = \"\\n\".join([header, src_section, schema_desc, instruction, extras, \"Output only the JSON array in the described shape.\"])\n",
        "        return prompt"
      ]
    },
    {
      "cell_type": "code",
      "execution_count": null,
      "metadata": {
        "id": "NQkG8YLUQuDe"
      },
      "outputs": [],
      "source": [
        "class ModelClient:\n",
        "    def __init__(self, api_key=None, model=\"gpt-4o-mini-2024-07-18\", base_url=\"https://api.tapsage.com\", provider=\"openai_chat_completion\", max_tokens=None, temperature=None):\n",
        "        key = api_key or os.environ.get(\"TAPSAGE_API_KEY\", \"tpsg-MNvTQUAqUL84o4THLV1395IqTBIZHJJ\")\n",
        "        self.endpoint = f\"{base_url}/api/v1/wrapper/{provider}/chat/completions\"\n",
        "        self.headers = {\n",
        "            \"Authorization\": f\"Bearer {key}\",\n",
        "            \"Content-Type\": \"application/json\",\n",
        "        }\n",
        "        self.model = model\n",
        "        self.max_tokens = max_tokens or Config.MODEL_MAX_TOKENS\n",
        "        self.temperature = temperature if temperature is not None else Config.MODEL_TEMPERATURE\n",
        "        self.system_prompt = (\n",
        "            \"شما یک متخصص مجرب در حوزه‌های گردشگری، اقلیم‌شناسی و جغرافیای ایران هستید. \"\n",
        "            \"تمام پاسخ‌های شما باید فقط به زبان فارسی معیار، دقیق، روان و مطابق با استانداردهای نگارش علمی و اطلاع‌رسانی ارائه شوند. \"\n",
        "            \"اطلاعاتی را بیاورید که مطمئن هستید **درست و حتما مربوط به استان هدف** هستند؛ اگر در مورد چیزی مطمئن نیستید از آوردن آن خودداری کنید. \"\n",
        "            \"می‌توانید از دانش درونی خود استفاده کنید ولی فقط مواردی را بیاورید که کاملاً مطمئن هستید. \"\n",
        "            f\"شما باید حداقل {Config.MIN_ITEMS_PER_CATEGORY} دادهٔ کاملاً متمایز، غیرتکراری، و مطمئن درباره هر دسته‌بندی ارائه دهید. اگر در اولین پاسخ کمتر از {Config.MIN_ITEMS_PER_CATEGORY} مورد داده شد، با اصلاح پرسش و اضافه کردن موارد موجود به عنوان موارد تکراری، تا رسیدن به حداقل ادامه دهید. \"\n",
        "            \"توضیحاتی که در قسمت description می‌نویسید باید بسیار دقیق، با جزئیات و کامل باشند، علمی و شفاف باشند و ارتباط هر مورد را با استان هدف به‌روشنی توضیح دهند؛ \"\n",
        "            \"به‌گونه‌ای که نشان دهند چرا آن مورد به‌طور خاص در آن استان اهمیت یا ویژگی دارد. \"\n",
        "            \"محتوای فیلد description باید غنی از اطلاعات اختصاصی و شامل ویژگی‌ها و جزئیات دقیق، ریزبینانه و منحصربه‌فرد همان مورد باشد؛ \"\n",
        "            \"از نوشتن توضیحات کلی یا قابل تعمیم به سایر موارد خودداری کن. \"\n",
        "            f\"بگو همه اطلاعاتی که در متن ضمیمه شده آمده و اطلاعات خودت را در صورتی که مطمئن هستی، در قالب حداقل {Config.MIN_TENSE_LEN} کلمه در description بنویس. \"\n",
        "            \"در بخش description از نوشتن توضیحات کلی و عمومی پرهیز کن؛ فقط اطلاعات خاص، دقیق و مرتبط با همان مورد را بنویس. \"\n",
        "            f\"هر مورد باید شامل **حداقل {Config.MIN_FACTS} ویژگی اطلاعاتی مستند** باشد؛ اگر این ویژگی‌ها فیلد مشخصی در ساختار دارند، در همان فیلد درج شوند (مثلاً سازنده در فیلد \\\"سازنده\\\")، \"\n",
        "            \"در غیر این‌صورت در بخش \\\"توصیف\\\" (description) آورده شوند؛ به‌گونه‌ای که بتوان درباره هر مورد دست‌کم پنج سؤال دقیق مانند سازنده، تاریخ ساخت، موقعیت، \"\n",
        "            \"ویژگی‌های طبیعی یا معماری، و اهمیت فرهنگی یا تاریخی طرح کرد. \"\n",
        "            \"در فیلد name، حتماً از زبان فارسی معیار و دقیقاً مطابق با فرمت داده‌شده استفاده کنید. \"\n",
        "            \"فیلدهایی که مقدار مشخص و قابل اطمینانی ندارند یا اطلاعاتشان موجود نیست، باید با مقدار null پر شوند و نباید حذف شوند. \"\n",
        "            \"فرمت خروجی باید دقیقاً مطابق قالب داده‌شده باشد و فقط JSON بدهید. \"\n",
        "            \"تحت هیچ شرایطی نباید به هیچ موردی تصویری نسبت داده شود، مگر آنکه با شواهد کاملاً روشن، قطعی، و قابل‌راستی‌آزمایی اثبات شود که تصویر دقیقاً متعلق به همان مورد است. صرف شباهت ظاهری، حدس، یا برداشت شخصی به‌هیچ‌وجه قابل‌قبول نیست. لینک تصویر باید حتماً شامل نام کامل یا مخفف رسمی و شناخته‌شده مورد باشد؛ هرگونه نام مبهم، اصطلاح عمومی یا اشاره غیرمستقیم مردود است. در صورت وجود حتی کمترین تردید، تصویر نباید استفاده شود. همواره با سخت‌گیری کامل عمل کن و اولویت را به عدم تخصیص تصویر بده، نه به تخصیص مشکوک یا نادرست.\"\n",
        "            \"اگر مطمئن نبودی، تصویر را نیاور.\"\n",
        "        )\n",
        "\n",
        "    def generate(self, prompt, max_attempts=4):\n",
        "        attempt = 0\n",
        "        backoff_base = 1\n",
        "        while attempt < max_attempts:\n",
        "            try:\n",
        "                messages = [\n",
        "                    {\"role\": \"system\", \"content\": self.system_prompt},\n",
        "                    {\"role\": \"user\", \"content\": prompt},\n",
        "                ]\n",
        "                payload = {\n",
        "                    \"model\": self.model,\n",
        "                    \"messages\": messages,\n",
        "                    \"max_tokens\": self.max_tokens,\n",
        "                    \"temperature\": self.temperature,\n",
        "                }\n",
        "                resp = requests.post(self.endpoint, json=payload, headers=self.headers, timeout=500)\n",
        "                if resp.status_code == 524 or 500 <= resp.status_code < 600:\n",
        "                    raise requests.HTTPError(f\"Server error {resp.status_code}\")\n",
        "                resp.raise_for_status()\n",
        "                data = resp.json()\n",
        "                return data[\"choices\"][0][\"message\"][\"content\"].strip()\n",
        "            except Exception as e:\n",
        "                wait = backoff_base * (2 ** attempt) + random.uniform(0, 0.5)\n",
        "                console.print(f\"[yellow]Model call failed (attempt {attempt+1}/{max_attempts}): {e}. Retrying in {wait:.1f}s[/yellow]\")\n",
        "                time.sleep(wait)\n",
        "                attempt += 1\n",
        "        raise RuntimeError(\"Failed to get a valid response from model after retries.\")"
      ]
    },
    {
      "cell_type": "code",
      "execution_count": null,
      "metadata": {
        "id": "OEUEMD-NQwxd"
      },
      "outputs": [],
      "source": [
        "class DataMerger:\n",
        "    @staticmethod\n",
        "    def normalize_name(name):\n",
        "        import unicodedata\n",
        "        s = unicodedata.normalize(\"NFKD\", name)\n",
        "        s = \"\".join(c for c in s if not unicodedata.combining(c))\n",
        "        s = re.sub(r\"\\s+\", \"\", s)\n",
        "        s = re.sub(r\"[^\\w]\", \"\", s, flags=re.UNICODE)\n",
        "        return s.lower()\n",
        "\n",
        "    @staticmethod\n",
        "    def is_duplicate_name(name, existing_names):\n",
        "        n = DataMerger.normalize_name(name)\n",
        "        for e in existing_names:\n",
        "            if SequenceMatcher(None, n, DataMerger.normalize_name(e)).ratio() > 0.85:\n",
        "                return True\n",
        "        return False\n",
        "\n",
        "    @staticmethod\n",
        "    def merge_category_blocks(existing_blocks, new_blocks):\n",
        "        for new in new_blocks:\n",
        "            new_name = new.get(\"name\", \"\").strip()\n",
        "            if not new_name:\n",
        "                continue\n",
        "            matched = None\n",
        "            for ex in existing_blocks:\n",
        "                if DataMerger.normalize_name(ex.get(\"name\", \"\")) == DataMerger.normalize_name(new_name):\n",
        "                    matched = ex\n",
        "                    break\n",
        "            if matched:\n",
        "                existing_items = matched.get(\"description\", [])\n",
        "                new_items = new.get(\"description\", [])\n",
        "                existing_item_names = [i.get(\"name\", \"\") for i in existing_items if i.get(\"name\")]\n",
        "                for ni in new_items:\n",
        "                    name = ni.get(\"name\", \"\").strip()\n",
        "                    if not name:\n",
        "                        continue\n",
        "                    if DataMerger.is_duplicate_name(name, existing_item_names):\n",
        "                        continue\n",
        "                    existing_items.append(ni)\n",
        "                    existing_item_names.append(name)\n",
        "                matched[\"description\"] = existing_items\n",
        "            else:\n",
        "                existing_blocks.append(new)\n",
        "        return existing_blocks\n",
        "\n",
        "    @staticmethod\n",
        "    def merge_attraction_items(existing, new_items):\n",
        "        existing_names = [item.get(\"name\", \"\") for item in existing if item.get(\"name\")]\n",
        "        for item in new_items:\n",
        "            name = item.get(\"name\", \"\").strip()\n",
        "            if not name:\n",
        "                continue\n",
        "            if DataMerger.is_duplicate_name(name, existing_names):\n",
        "                continue\n",
        "            existing.append(item)\n",
        "            existing_names.append(name)\n",
        "        return existing\n",
        "\n",
        "    @staticmethod\n",
        "    def flatten_count(category_data, category_key):\n",
        "        if category_key in [\"geographical_features\", \"topography\", \"natural_resources\"]:\n",
        "            names = set()\n",
        "            for block in category_data:\n",
        "                for itm in block.get(\"description\", []):\n",
        "                    n = itm.get(\"name\", \"\").strip()\n",
        "                    if n:\n",
        "                        names.add(DataMerger.normalize_name(n))\n",
        "            return len(names), names\n",
        "        else:\n",
        "            names = set()\n",
        "            for itm in category_data:\n",
        "                n = itm.get(\"name\", \"\").strip()\n",
        "                if n:\n",
        "                    names.add(DataMerger.normalize_name(n))\n",
        "            return len(names), names"
      ]
    },
    {
      "cell_type": "code",
      "execution_count": null,
      "metadata": {
        "id": "y-8M4-e4Q14C"
      },
      "outputs": [],
      "source": [
        "class ProvinceProcessor:\n",
        "    def __init__(self, province, assistant, fetcher, output_dir, progress, overall_task):\n",
        "        self.province = province\n",
        "        self.assistant = assistant\n",
        "        self.fetcher = fetcher\n",
        "        self.output_dir = output_dir\n",
        "        self.progress = progress\n",
        "        self.overall_task = overall_task\n",
        "        self.resources = []\n",
        "        self.relevant = []\n",
        "\n",
        "    async def run(self):\n",
        "        scrape_task = self.progress.add_task(f\"Fetching resources for {self.province}\", total=len(Config.PROVINCE_RESOURCES.get(self.province, [])))\n",
        "        self.resources = await self.fetcher.scrape(self.province, Config.PROVINCE_RESOURCES.get(self.province, []), self.progress, scrape_task)\n",
        "        self.relevant = self.resources\n",
        "        result = {\n",
        "            \"title\": f\"ویژگی‌های جغرافیایی {self.province}\",\n",
        "            \"location\": {\"province\": self.province, \"city\": self.province},\n",
        "            \"geographical_features\": [],\n",
        "            \"topography\": [],\n",
        "            \"natural_resources\": [],\n",
        "            \"tourist_attractions\": [],\n",
        "            \"additional_info\": {\n",
        "                \"books_source\": \"http://chap.sch.ir/category/دوره-آموزش-متوسطه/جغرافیای-استان‌ها\",\n",
        "                \"online_resources\": [r[\"url\"] for r in self.resources],\n",
        "            },\n",
        "        }\n",
        "\n",
        "        for cat in [\"geographical_features\", \"topography\", \"natural_resources\", \"tourist_attractions\"]:\n",
        "            cat_task = self.progress.add_task(f\"{self.province} - {cat}\", total=1)\n",
        "            total_collected = 0\n",
        "            existing_names = set()\n",
        "            rounds = 0\n",
        "\n",
        "            while rounds < Config.MAX_REFINE_ROUNDS:\n",
        "                remaining = max(0, Config.MIN_ITEMS_PER_CATEGORY - total_collected)\n",
        "                prompt = PromptBuilder.build_category_prompt(\n",
        "                    self.province,\n",
        "                    cat,\n",
        "                    self.relevant,\n",
        "                    existing_names=existing_names if rounds > 0 else None,\n",
        "                    remaining_needed=remaining if rounds > 0 else None,\n",
        "                )\n",
        "                try:\n",
        "                    response = await asyncio.to_thread(self.assistant.generate, prompt)\n",
        "                except Exception as e:\n",
        "                    console.print(f\"[red]Error contacting model for {self.province}/{cat}: {e}[/red]\")\n",
        "                    break\n",
        "\n",
        "                parsed = self._extract_json(response)\n",
        "                if not parsed:\n",
        "                    rounds += 1\n",
        "                    continue\n",
        "\n",
        "                if cat in [\"geographical_features\", \"topography\", \"natural_resources\"]:\n",
        "                    normalized_blocks = []\n",
        "                    for block in parsed:\n",
        "                        if isinstance(block, dict):\n",
        "                            if \"category\" in block and \"items\" in block:\n",
        "                                subcat_name = block[\"category\"]\n",
        "                                description_items = []\n",
        "                                for item in block.get(\"items\", []):\n",
        "                                    description_items.append(\n",
        "                                        {\n",
        "                                            \"name\": item.get(\"name\", \"\"),\n",
        "                                            \"images\": item.get(\"images\", []),\n",
        "                                            \"description\": item.get(\"description\", \"\"),\n",
        "                                        }\n",
        "                                    )\n",
        "                                normalized_blocks.append({\"name\": subcat_name, \"description\": description_items})\n",
        "                            elif \"name\" in block and isinstance(block.get(\"description\"), list):\n",
        "                                normalized_blocks.append(block)\n",
        "                    if not normalized_blocks:\n",
        "                        flat_items = []\n",
        "                        for item in parsed:\n",
        "                            if isinstance(item, dict) and \"name\" in item:\n",
        "                                name = item.get(\"name\", \"\")\n",
        "                                images = item.get(\"images\", []) if isinstance(item.get(\"images\", []), list) else []\n",
        "                                desc = item.get(\"description\", \"\") if isinstance(item.get(\"description\", \"\"), str) else \"\"\n",
        "                                flat_items.append({\"name\": name, \"images\": images, \"description\": desc})\n",
        "                        if flat_items:\n",
        "                            wrapper = {\"name\": cat, \"description\": flat_items}\n",
        "                            normalized_blocks = [wrapper]\n",
        "                    result[cat] = DataMerger.merge_category_blocks(result[cat], normalized_blocks)\n",
        "                else:\n",
        "                    attractions = []\n",
        "                    for block in parsed:\n",
        "                        if isinstance(block, dict):\n",
        "                            if \"category\" in block and \"items\" in block:\n",
        "                                for item in block.get(\"items\", []):\n",
        "                                    attractions.append(item)\n",
        "                            elif \"name\" in block:\n",
        "                                attractions.append(block)\n",
        "                    result[cat] = DataMerger.merge_attraction_items(result[cat], attractions)\n",
        "\n",
        "                count, names = DataMerger.flatten_count(result[cat], cat)\n",
        "                total_collected = count\n",
        "                existing_names = names\n",
        "                rounds += 1\n",
        "                if total_collected >= Config.MIN_ITEMS_PER_CATEGORY:\n",
        "                    break\n",
        "\n",
        "            if total_collected < Config.MIN_ITEMS_PER_CATEGORY and cat in Config.SUBCATEGORY_SCHEMA:\n",
        "                for sub in Config.SUBCATEGORY_SCHEMA.get(cat, []):\n",
        "                    if total_collected >= Config.MIN_ITEMS_PER_CATEGORY:\n",
        "                        break\n",
        "                    prompt = PromptBuilder.build_category_prompt(\n",
        "                        self.province,\n",
        "                        cat,\n",
        "                        self.relevant,\n",
        "                        existing_names=existing_names,\n",
        "                        remaining_needed=max(0, Config.MIN_ITEMS_PER_CATEGORY - total_collected),\n",
        "                        subcategory=sub,\n",
        "                    )\n",
        "                    try:\n",
        "                        response = await asyncio.to_thread(self.assistant.generate, prompt)\n",
        "                    except Exception as e:\n",
        "                        console.print(f\"[red]Error contacting model for subcategory {sub} of {self.province}/{cat}: {e}[/red]\")\n",
        "                        continue\n",
        "                    parsed = self._extract_json(response)\n",
        "                    if not parsed:\n",
        "                        continue\n",
        "                    if cat in [\"geographical_features\", \"topography\", \"natural_resources\"]:\n",
        "                        normalized_blocks = []\n",
        "                        for block in parsed:\n",
        "                            if isinstance(block, dict):\n",
        "                                if \"category\" in block and \"items\" in block:\n",
        "                                    subcat_name = block[\"category\"]\n",
        "                                    description_items = []\n",
        "                                    for item in block.get(\"items\", []):\n",
        "                                        description_items.append(\n",
        "                                            {\n",
        "                                                \"name\": item.get(\"name\", \"\"),\n",
        "                                                \"images\": item.get(\"images\", []),\n",
        "                                                \"description\": item.get(\"description\", \"\"),\n",
        "                                            }\n",
        "                                        )\n",
        "                                    normalized_blocks.append({\"name\": subcat_name, \"description\": description_items})\n",
        "                                elif \"name\" in block and isinstance(block.get(\"description\"), list):\n",
        "                                    normalized_blocks.append(block)\n",
        "                        if not normalized_blocks:\n",
        "                            flat_items = []\n",
        "                            for item in parsed:\n",
        "                                if isinstance(item, dict) and \"name\" in item:\n",
        "                                    name = item.get(\"name\", \"\")\n",
        "                                    images = item.get(\"images\", []) if isinstance(item.get(\"images\", []), list) else []\n",
        "                                    desc = item.get(\"description\", \"\") if isinstance(item.get(\"description\", \"\"), str) else \"\"\n",
        "                                    flat_items.append({\"name\": name, \"images\": images, \"description\": desc})\n",
        "                            if flat_items:\n",
        "                                wrapper = {\"name\": cat, \"description\": flat_items}\n",
        "                                normalized_blocks = [wrapper]\n",
        "                        result[cat] = DataMerger.merge_category_blocks(result[cat], normalized_blocks)\n",
        "                    else:\n",
        "                        attractions = []\n",
        "                        for block in parsed:\n",
        "                            if isinstance(block, dict):\n",
        "                                if \"category\" in block and \"items\" in block:\n",
        "                                    for item in block.get(\"items\", []):\n",
        "                                        attractions.append(item)\n",
        "                                elif \"name\" in block:\n",
        "                                    attractions.append(block)\n",
        "                        result[cat] = DataMerger.merge_attraction_items(result[cat], attractions)\n",
        "\n",
        "                    count, names = DataMerger.flatten_count(result[cat], cat)\n",
        "                    total_collected = count\n",
        "                    existing_names = names\n",
        "\n",
        "            console.print(f\"[bold cyan]{self.province} - {cat}: collected {total_collected} unique items[/bold cyan]\")\n",
        "            self.progress.update(cat_task, advance=1)\n",
        "\n",
        "        self._prune_english_name_entries(result)\n",
        "\n",
        "        filename = os.path.join(self.output_dir, f\"{self.province.replace(' ', '_')}.json\")\n",
        "        os.makedirs(self.output_dir, exist_ok=True)\n",
        "        with open(filename, \"w\", encoding=\"utf-8\") as f:\n",
        "            json.dump(result, f, ensure_ascii=False, indent=2)\n",
        "        self.progress.update(self.overall_task, advance=1)\n",
        "        console.print(f\"[bold green]Saved:[/bold green] {filename}\")\n",
        "\n",
        "    @staticmethod\n",
        "    def _extract_json(response_text):\n",
        "        idx = response_text.find(\"[\")\n",
        "        if idx == -1:\n",
        "            return []\n",
        "        try:\n",
        "            arr = json.loads(response_text[idx: response_text.rfind(\"]\") + 1])\n",
        "            return arr\n",
        "        except:\n",
        "            try:\n",
        "                cleaned = re.sub(r\",\\s*}\", \"}\", response_text[idx: response_text.rfind(\"]\") + 1])\n",
        "                return json.loads(cleaned)\n",
        "            except:\n",
        "                return []\n",
        "\n",
        "    @staticmethod\n",
        "    def _prune_english_name_entries(result):\n",
        "        def has_latin(s):\n",
        "            return bool(re.search(r\"[A-Za-z]\", s))\n",
        "\n",
        "        def conditional_replace(cat, new_list):\n",
        "            if new_list:\n",
        "                result[cat] = new_list\n",
        "\n",
        "        for cat in [\"geographical_features\", \"topography\", \"natural_resources\"]:\n",
        "            original_blocks = result.get(cat, [])\n",
        "            new_blocks = []\n",
        "            for block in original_blocks:\n",
        "                desc = block.get(\"description\", [])\n",
        "                filtered_items = []\n",
        "                for item in desc:\n",
        "                    name = item.get(\"name\", \"\")\n",
        "                    if isinstance(name, str) and has_latin(name):\n",
        "                        continue\n",
        "                    filtered_items.append(item)\n",
        "                if filtered_items:\n",
        "                    block_copy = block.copy()\n",
        "                    block_copy[\"description\"] = filtered_items\n",
        "                    new_blocks.append(block_copy)\n",
        "            conditional_replace(cat, new_blocks)\n",
        "\n",
        "        original_attractions = result.get(\"tourist_attractions\", [])\n",
        "        filtered_attractions = []\n",
        "        for att in original_attractions:\n",
        "            name = att.get(\"name\", \"\")\n",
        "            if isinstance(name, str) and has_latin(name):\n",
        "                continue\n",
        "            filtered_attractions.append(att)\n",
        "        if filtered_attractions:\n",
        "            result[\"tourist_attractions\"] = filtered_attractions\n",
        "\n",
        "        for cat in [\"geographical_features\", \"topography\", \"natural_resources\"]:\n",
        "            current_blocks = result.get(cat, [])\n",
        "            pruned = []\n",
        "            for block in current_blocks:\n",
        "                name = block.get(\"name\", \"\")\n",
        "                if isinstance(name, str) and name.strip().lower() == cat.lower():\n",
        "                    continue\n",
        "                pruned.append(block)\n",
        "            if pruned:\n",
        "                result[cat] = pruned"
      ]
    },
    {
      "cell_type": "code",
      "execution_count": null,
      "metadata": {
        "id": "xQhl7NAHQ735"
      },
      "outputs": [],
      "source": [
        "async def main():\n",
        "    assistant = ModelClient()\n",
        "    output_dir = \"province_datasets\"\n",
        "    os.makedirs(output_dir, exist_ok=True)\n",
        "    cache_manager = CacheManager()\n",
        "    fetcher = ResourceFetcher(cache_manager)\n",
        "    provinces = list(Config.PROVINCE_RESOURCES.keys())\n",
        "\n",
        "    with Progress(\n",
        "        SpinnerColumn(),\n",
        "        TextColumn(\"{task.description}\"),\n",
        "        BarColumn(bar_width=None),\n",
        "        TimeElapsedColumn(),\n",
        "        TimeRemainingColumn(),\n",
        "        console=console,\n",
        "    ) as progress:\n",
        "        overall_task = progress.add_task(\"Processing all provinces\", total=len(provinces))\n",
        "        for province in provinces:\n",
        "            processor = ProvinceProcessor(province, assistant, fetcher, output_dir, progress, overall_task)\n",
        "            await processor.run()"
      ]
    },
    {
      "cell_type": "code",
      "execution_count": null,
      "metadata": {
        "colab": {
          "base_uri": "https://localhost:8080/",
          "height": 1000,
          "referenced_widgets": [
            "e419b6bcf9a14b739b2e7f0eb68e8a5e",
            "6eb8a20508824180bf8eec482cd8a45b"
          ]
        },
        "id": "l0doqzLuwsmW",
        "outputId": "c3451ac8-a31e-41d8-f20e-56b4b15eef00"
      },
      "outputs": [
        {
          "output_type": "display_data",
          "data": {
            "text/plain": [
              "Output()"
            ],
            "application/vnd.jupyter.widget-view+json": {
              "version_major": 2,
              "version_minor": 0,
              "model_id": "e419b6bcf9a14b739b2e7f0eb68e8a5e"
            }
          },
          "metadata": {}
        },
        {
          "output_type": "display_data",
          "data": {
            "text/plain": [
              "\u001b[1;36mفارس - geographical_features: collected \u001b[0m\u001b[1;36m45\u001b[0m\u001b[1;36m unique items\u001b[0m\n"
            ],
            "text/html": [
              "<pre style=\"white-space:pre;overflow-x:auto;line-height:normal;font-family:Menlo,'DejaVu Sans Mono',consolas,'Courier New',monospace\"><span style=\"color: #008080; text-decoration-color: #008080; font-weight: bold\">فارس - geographical_features: collected </span><span style=\"color: #008080; text-decoration-color: #008080; font-weight: bold\">45</span><span style=\"color: #008080; text-decoration-color: #008080; font-weight: bold\"> unique items</span>\n",
              "</pre>\n"
            ]
          },
          "metadata": {}
        },
        {
          "output_type": "display_data",
          "data": {
            "text/plain": [
              "\u001b[1;36mفارس - topography: collected \u001b[0m\u001b[1;36m39\u001b[0m\u001b[1;36m unique items\u001b[0m\n"
            ],
            "text/html": [
              "<pre style=\"white-space:pre;overflow-x:auto;line-height:normal;font-family:Menlo,'DejaVu Sans Mono',consolas,'Courier New',monospace\"><span style=\"color: #008080; text-decoration-color: #008080; font-weight: bold\">فارس - topography: collected </span><span style=\"color: #008080; text-decoration-color: #008080; font-weight: bold\">39</span><span style=\"color: #008080; text-decoration-color: #008080; font-weight: bold\"> unique items</span>\n",
              "</pre>\n"
            ]
          },
          "metadata": {}
        },
        {
          "output_type": "display_data",
          "data": {
            "text/plain": [
              "\u001b[1;36mفارس - natural_resources: collected \u001b[0m\u001b[1;36m53\u001b[0m\u001b[1;36m unique items\u001b[0m\n"
            ],
            "text/html": [
              "<pre style=\"white-space:pre;overflow-x:auto;line-height:normal;font-family:Menlo,'DejaVu Sans Mono',consolas,'Courier New',monospace\"><span style=\"color: #008080; text-decoration-color: #008080; font-weight: bold\">فارس - natural_resources: collected </span><span style=\"color: #008080; text-decoration-color: #008080; font-weight: bold\">53</span><span style=\"color: #008080; text-decoration-color: #008080; font-weight: bold\"> unique items</span>\n",
              "</pre>\n"
            ]
          },
          "metadata": {}
        },
        {
          "output_type": "display_data",
          "data": {
            "text/plain": [
              "\u001b[1;36mفارس - tourist_attractions: collected \u001b[0m\u001b[1;36m33\u001b[0m\u001b[1;36m unique items\u001b[0m\n"
            ],
            "text/html": [
              "<pre style=\"white-space:pre;overflow-x:auto;line-height:normal;font-family:Menlo,'DejaVu Sans Mono',consolas,'Courier New',monospace\"><span style=\"color: #008080; text-decoration-color: #008080; font-weight: bold\">فارس - tourist_attractions: collected </span><span style=\"color: #008080; text-decoration-color: #008080; font-weight: bold\">33</span><span style=\"color: #008080; text-decoration-color: #008080; font-weight: bold\"> unique items</span>\n",
              "</pre>\n"
            ]
          },
          "metadata": {}
        },
        {
          "output_type": "display_data",
          "data": {
            "text/plain": [
              "\u001b[1;32mSaved:\u001b[0m province_datasets/فارس.json\n"
            ],
            "text/html": [
              "<pre style=\"white-space:pre;overflow-x:auto;line-height:normal;font-family:Menlo,'DejaVu Sans Mono',consolas,'Courier New',monospace\"><span style=\"color: #008000; text-decoration-color: #008000; font-weight: bold\">Saved:</span> province_datasets/فارس.json\n",
              "</pre>\n"
            ]
          },
          "metadata": {}
        },
        {
          "output_type": "display_data",
          "data": {
            "text/plain": [
              "\u001b[1;36mاصفهان - geographical_features: collected \u001b[0m\u001b[1;36m59\u001b[0m\u001b[1;36m unique items\u001b[0m\n"
            ],
            "text/html": [
              "<pre style=\"white-space:pre;overflow-x:auto;line-height:normal;font-family:Menlo,'DejaVu Sans Mono',consolas,'Courier New',monospace\"><span style=\"color: #008080; text-decoration-color: #008080; font-weight: bold\">اصفهان - geographical_features: collected </span><span style=\"color: #008080; text-decoration-color: #008080; font-weight: bold\">59</span><span style=\"color: #008080; text-decoration-color: #008080; font-weight: bold\"> unique items</span>\n",
              "</pre>\n"
            ]
          },
          "metadata": {}
        },
        {
          "output_type": "display_data",
          "data": {
            "text/plain": [
              "\u001b[1;36mاصفهان - topography: collected \u001b[0m\u001b[1;36m45\u001b[0m\u001b[1;36m unique items\u001b[0m\n"
            ],
            "text/html": [
              "<pre style=\"white-space:pre;overflow-x:auto;line-height:normal;font-family:Menlo,'DejaVu Sans Mono',consolas,'Courier New',monospace\"><span style=\"color: #008080; text-decoration-color: #008080; font-weight: bold\">اصفهان - topography: collected </span><span style=\"color: #008080; text-decoration-color: #008080; font-weight: bold\">45</span><span style=\"color: #008080; text-decoration-color: #008080; font-weight: bold\"> unique items</span>\n",
              "</pre>\n"
            ]
          },
          "metadata": {}
        },
        {
          "output_type": "display_data",
          "data": {
            "text/plain": [
              "\u001b[1;36mاصفهان - natural_resources: collected \u001b[0m\u001b[1;36m47\u001b[0m\u001b[1;36m unique items\u001b[0m\n"
            ],
            "text/html": [
              "<pre style=\"white-space:pre;overflow-x:auto;line-height:normal;font-family:Menlo,'DejaVu Sans Mono',consolas,'Courier New',monospace\"><span style=\"color: #008080; text-decoration-color: #008080; font-weight: bold\">اصفهان - natural_resources: collected </span><span style=\"color: #008080; text-decoration-color: #008080; font-weight: bold\">47</span><span style=\"color: #008080; text-decoration-color: #008080; font-weight: bold\"> unique items</span>\n",
              "</pre>\n"
            ]
          },
          "metadata": {}
        },
        {
          "output_type": "display_data",
          "data": {
            "text/plain": [
              "\u001b[1;36mاصفهان - tourist_attractions: collected \u001b[0m\u001b[1;36m37\u001b[0m\u001b[1;36m unique items\u001b[0m\n"
            ],
            "text/html": [
              "<pre style=\"white-space:pre;overflow-x:auto;line-height:normal;font-family:Menlo,'DejaVu Sans Mono',consolas,'Courier New',monospace\"><span style=\"color: #008080; text-decoration-color: #008080; font-weight: bold\">اصفهان - tourist_attractions: collected </span><span style=\"color: #008080; text-decoration-color: #008080; font-weight: bold\">37</span><span style=\"color: #008080; text-decoration-color: #008080; font-weight: bold\"> unique items</span>\n",
              "</pre>\n"
            ]
          },
          "metadata": {}
        },
        {
          "output_type": "display_data",
          "data": {
            "text/plain": [
              "\u001b[1;32mSaved:\u001b[0m province_datasets/اصفهان.json\n"
            ],
            "text/html": [
              "<pre style=\"white-space:pre;overflow-x:auto;line-height:normal;font-family:Menlo,'DejaVu Sans Mono',consolas,'Courier New',monospace\"><span style=\"color: #008000; text-decoration-color: #008000; font-weight: bold\">Saved:</span> province_datasets/اصفهان.json\n",
              "</pre>\n"
            ]
          },
          "metadata": {}
        },
        {
          "output_type": "display_data",
          "data": {
            "text/plain": [
              "\u001b[1;36mبوشهر - geographical_features: collected \u001b[0m\u001b[1;36m52\u001b[0m\u001b[1;36m unique items\u001b[0m\n"
            ],
            "text/html": [
              "<pre style=\"white-space:pre;overflow-x:auto;line-height:normal;font-family:Menlo,'DejaVu Sans Mono',consolas,'Courier New',monospace\"><span style=\"color: #008080; text-decoration-color: #008080; font-weight: bold\">بوشهر - geographical_features: collected </span><span style=\"color: #008080; text-decoration-color: #008080; font-weight: bold\">52</span><span style=\"color: #008080; text-decoration-color: #008080; font-weight: bold\"> unique items</span>\n",
              "</pre>\n"
            ]
          },
          "metadata": {}
        },
        {
          "output_type": "display_data",
          "data": {
            "text/plain": [
              "\u001b[1;36mبوشهر - topography: collected \u001b[0m\u001b[1;36m51\u001b[0m\u001b[1;36m unique items\u001b[0m\n"
            ],
            "text/html": [
              "<pre style=\"white-space:pre;overflow-x:auto;line-height:normal;font-family:Menlo,'DejaVu Sans Mono',consolas,'Courier New',monospace\"><span style=\"color: #008080; text-decoration-color: #008080; font-weight: bold\">بوشهر - topography: collected </span><span style=\"color: #008080; text-decoration-color: #008080; font-weight: bold\">51</span><span style=\"color: #008080; text-decoration-color: #008080; font-weight: bold\"> unique items</span>\n",
              "</pre>\n"
            ]
          },
          "metadata": {}
        },
        {
          "output_type": "display_data",
          "data": {
            "text/plain": [
              "\u001b[1;36mبوشهر - natural_resources: collected \u001b[0m\u001b[1;36m43\u001b[0m\u001b[1;36m unique items\u001b[0m\n"
            ],
            "text/html": [
              "<pre style=\"white-space:pre;overflow-x:auto;line-height:normal;font-family:Menlo,'DejaVu Sans Mono',consolas,'Courier New',monospace\"><span style=\"color: #008080; text-decoration-color: #008080; font-weight: bold\">بوشهر - natural_resources: collected </span><span style=\"color: #008080; text-decoration-color: #008080; font-weight: bold\">43</span><span style=\"color: #008080; text-decoration-color: #008080; font-weight: bold\"> unique items</span>\n",
              "</pre>\n"
            ]
          },
          "metadata": {}
        },
        {
          "output_type": "display_data",
          "data": {
            "text/plain": [
              "\u001b[1;36mبوشهر - tourist_attractions: collected \u001b[0m\u001b[1;36m31\u001b[0m\u001b[1;36m unique items\u001b[0m\n"
            ],
            "text/html": [
              "<pre style=\"white-space:pre;overflow-x:auto;line-height:normal;font-family:Menlo,'DejaVu Sans Mono',consolas,'Courier New',monospace\"><span style=\"color: #008080; text-decoration-color: #008080; font-weight: bold\">بوشهر - tourist_attractions: collected </span><span style=\"color: #008080; text-decoration-color: #008080; font-weight: bold\">31</span><span style=\"color: #008080; text-decoration-color: #008080; font-weight: bold\"> unique items</span>\n",
              "</pre>\n"
            ]
          },
          "metadata": {}
        },
        {
          "output_type": "display_data",
          "data": {
            "text/plain": [
              "\u001b[1;32mSaved:\u001b[0m province_datasets/بوشهر.json\n"
            ],
            "text/html": [
              "<pre style=\"white-space:pre;overflow-x:auto;line-height:normal;font-family:Menlo,'DejaVu Sans Mono',consolas,'Courier New',monospace\"><span style=\"color: #008000; text-decoration-color: #008000; font-weight: bold\">Saved:</span> province_datasets/بوشهر.json\n",
              "</pre>\n"
            ]
          },
          "metadata": {}
        },
        {
          "output_type": "display_data",
          "data": {
            "text/plain": [
              "\u001b[1;36mچهارمحال و بختیاری - geographical_features: collected \u001b[0m\u001b[1;36m49\u001b[0m\u001b[1;36m unique items\u001b[0m\n"
            ],
            "text/html": [
              "<pre style=\"white-space:pre;overflow-x:auto;line-height:normal;font-family:Menlo,'DejaVu Sans Mono',consolas,'Courier New',monospace\"><span style=\"color: #008080; text-decoration-color: #008080; font-weight: bold\">چهارمحال و بختیاری - geographical_features: collected </span><span style=\"color: #008080; text-decoration-color: #008080; font-weight: bold\">49</span><span style=\"color: #008080; text-decoration-color: #008080; font-weight: bold\"> unique items</span>\n",
              "</pre>\n"
            ]
          },
          "metadata": {}
        },
        {
          "output_type": "display_data",
          "data": {
            "text/plain": [
              "\u001b[1;36mچهارمحال و بختیاری - topography: collected \u001b[0m\u001b[1;36m43\u001b[0m\u001b[1;36m unique items\u001b[0m\n"
            ],
            "text/html": [
              "<pre style=\"white-space:pre;overflow-x:auto;line-height:normal;font-family:Menlo,'DejaVu Sans Mono',consolas,'Courier New',monospace\"><span style=\"color: #008080; text-decoration-color: #008080; font-weight: bold\">چهارمحال و بختیاری - topography: collected </span><span style=\"color: #008080; text-decoration-color: #008080; font-weight: bold\">43</span><span style=\"color: #008080; text-decoration-color: #008080; font-weight: bold\"> unique items</span>\n",
              "</pre>\n"
            ]
          },
          "metadata": {}
        },
        {
          "output_type": "display_data",
          "data": {
            "text/plain": [
              "\u001b[1;36mچهارمحال و بختیاری - natural_resources: collected \u001b[0m\u001b[1;36m48\u001b[0m\u001b[1;36m unique items\u001b[0m\n"
            ],
            "text/html": [
              "<pre style=\"white-space:pre;overflow-x:auto;line-height:normal;font-family:Menlo,'DejaVu Sans Mono',consolas,'Courier New',monospace\"><span style=\"color: #008080; text-decoration-color: #008080; font-weight: bold\">چهارمحال و بختیاری - natural_resources: collected </span><span style=\"color: #008080; text-decoration-color: #008080; font-weight: bold\">48</span><span style=\"color: #008080; text-decoration-color: #008080; font-weight: bold\"> unique items</span>\n",
              "</pre>\n"
            ]
          },
          "metadata": {}
        },
        {
          "output_type": "display_data",
          "data": {
            "text/plain": [
              "\u001b[33mModel call failed \u001b[0m\u001b[1;33m(\u001b[0m\u001b[33mattempt \u001b[0m\u001b[1;33m1\u001b[0m\u001b[33m/\u001b[0m\u001b[1;33m4\u001b[0m\u001b[1;33m)\u001b[0m\u001b[33m: Server error \u001b[0m\u001b[1;33m524\u001b[0m\u001b[33m. Retrying in \u001b[0m\u001b[1;33m1.\u001b[0m\u001b[33m4s\u001b[0m\n"
            ],
            "text/html": [
              "<pre style=\"white-space:pre;overflow-x:auto;line-height:normal;font-family:Menlo,'DejaVu Sans Mono',consolas,'Courier New',monospace\"><span style=\"color: #808000; text-decoration-color: #808000\">Model call failed </span><span style=\"color: #808000; text-decoration-color: #808000; font-weight: bold\">(</span><span style=\"color: #808000; text-decoration-color: #808000\">attempt </span><span style=\"color: #808000; text-decoration-color: #808000; font-weight: bold\">1</span><span style=\"color: #808000; text-decoration-color: #808000\">/</span><span style=\"color: #808000; text-decoration-color: #808000; font-weight: bold\">4</span><span style=\"color: #808000; text-decoration-color: #808000; font-weight: bold\">)</span><span style=\"color: #808000; text-decoration-color: #808000\">: Server error </span><span style=\"color: #808000; text-decoration-color: #808000; font-weight: bold\">524</span><span style=\"color: #808000; text-decoration-color: #808000\">. Retrying in </span><span style=\"color: #808000; text-decoration-color: #808000; font-weight: bold\">1.</span><span style=\"color: #808000; text-decoration-color: #808000\">4s</span>\n",
              "</pre>\n"
            ]
          },
          "metadata": {}
        },
        {
          "output_type": "display_data",
          "data": {
            "text/plain": [
              "\u001b[33mModel call failed \u001b[0m\u001b[1;33m(\u001b[0m\u001b[33mattempt \u001b[0m\u001b[1;33m1\u001b[0m\u001b[33m/\u001b[0m\u001b[1;33m4\u001b[0m\u001b[1;33m)\u001b[0m\u001b[33m: Server error \u001b[0m\u001b[1;33m524\u001b[0m\u001b[33m. Retrying in \u001b[0m\u001b[1;33m1.\u001b[0m\u001b[33m1s\u001b[0m\n"
            ],
            "text/html": [
              "<pre style=\"white-space:pre;overflow-x:auto;line-height:normal;font-family:Menlo,'DejaVu Sans Mono',consolas,'Courier New',monospace\"><span style=\"color: #808000; text-decoration-color: #808000\">Model call failed </span><span style=\"color: #808000; text-decoration-color: #808000; font-weight: bold\">(</span><span style=\"color: #808000; text-decoration-color: #808000\">attempt </span><span style=\"color: #808000; text-decoration-color: #808000; font-weight: bold\">1</span><span style=\"color: #808000; text-decoration-color: #808000\">/</span><span style=\"color: #808000; text-decoration-color: #808000; font-weight: bold\">4</span><span style=\"color: #808000; text-decoration-color: #808000; font-weight: bold\">)</span><span style=\"color: #808000; text-decoration-color: #808000\">: Server error </span><span style=\"color: #808000; text-decoration-color: #808000; font-weight: bold\">524</span><span style=\"color: #808000; text-decoration-color: #808000\">. Retrying in </span><span style=\"color: #808000; text-decoration-color: #808000; font-weight: bold\">1.</span><span style=\"color: #808000; text-decoration-color: #808000\">1s</span>\n",
              "</pre>\n"
            ]
          },
          "metadata": {}
        },
        {
          "output_type": "display_data",
          "data": {
            "text/plain": [
              "\u001b[33mModel call failed \u001b[0m\u001b[1;33m(\u001b[0m\u001b[33mattempt \u001b[0m\u001b[1;33m2\u001b[0m\u001b[33m/\u001b[0m\u001b[1;33m4\u001b[0m\u001b[1;33m)\u001b[0m\u001b[33m: Server error \u001b[0m\u001b[1;33m524\u001b[0m\u001b[33m. Retrying in \u001b[0m\u001b[1;33m2.\u001b[0m\u001b[33m2s\u001b[0m\n"
            ],
            "text/html": [
              "<pre style=\"white-space:pre;overflow-x:auto;line-height:normal;font-family:Menlo,'DejaVu Sans Mono',consolas,'Courier New',monospace\"><span style=\"color: #808000; text-decoration-color: #808000\">Model call failed </span><span style=\"color: #808000; text-decoration-color: #808000; font-weight: bold\">(</span><span style=\"color: #808000; text-decoration-color: #808000\">attempt </span><span style=\"color: #808000; text-decoration-color: #808000; font-weight: bold\">2</span><span style=\"color: #808000; text-decoration-color: #808000\">/</span><span style=\"color: #808000; text-decoration-color: #808000; font-weight: bold\">4</span><span style=\"color: #808000; text-decoration-color: #808000; font-weight: bold\">)</span><span style=\"color: #808000; text-decoration-color: #808000\">: Server error </span><span style=\"color: #808000; text-decoration-color: #808000; font-weight: bold\">524</span><span style=\"color: #808000; text-decoration-color: #808000\">. Retrying in </span><span style=\"color: #808000; text-decoration-color: #808000; font-weight: bold\">2.</span><span style=\"color: #808000; text-decoration-color: #808000\">2s</span>\n",
              "</pre>\n"
            ]
          },
          "metadata": {}
        },
        {
          "output_type": "display_data",
          "data": {
            "text/plain": [
              "\u001b[1;36mچهارمحال و بختیاری - tourist_attractions: collected \u001b[0m\u001b[1;36m30\u001b[0m\u001b[1;36m unique items\u001b[0m\n"
            ],
            "text/html": [
              "<pre style=\"white-space:pre;overflow-x:auto;line-height:normal;font-family:Menlo,'DejaVu Sans Mono',consolas,'Courier New',monospace\"><span style=\"color: #008080; text-decoration-color: #008080; font-weight: bold\">چهارمحال و بختیاری - tourist_attractions: collected </span><span style=\"color: #008080; text-decoration-color: #008080; font-weight: bold\">30</span><span style=\"color: #008080; text-decoration-color: #008080; font-weight: bold\"> unique items</span>\n",
              "</pre>\n"
            ]
          },
          "metadata": {}
        },
        {
          "output_type": "display_data",
          "data": {
            "text/plain": [
              "\u001b[1;32mSaved:\u001b[0m province_datasets/چهارمحال_و_بختیاری.json\n"
            ],
            "text/html": [
              "<pre style=\"white-space:pre;overflow-x:auto;line-height:normal;font-family:Menlo,'DejaVu Sans Mono',consolas,'Courier New',monospace\"><span style=\"color: #008000; text-decoration-color: #008000; font-weight: bold\">Saved:</span> province_datasets/چهارمحال_و_بختیاری.json\n",
              "</pre>\n"
            ]
          },
          "metadata": {}
        },
        {
          "output_type": "display_data",
          "data": {
            "text/plain": [
              "\u001b[1;36mهرمزگان - geographical_features: collected \u001b[0m\u001b[1;36m48\u001b[0m\u001b[1;36m unique items\u001b[0m\n"
            ],
            "text/html": [
              "<pre style=\"white-space:pre;overflow-x:auto;line-height:normal;font-family:Menlo,'DejaVu Sans Mono',consolas,'Courier New',monospace\"><span style=\"color: #008080; text-decoration-color: #008080; font-weight: bold\">هرمزگان - geographical_features: collected </span><span style=\"color: #008080; text-decoration-color: #008080; font-weight: bold\">48</span><span style=\"color: #008080; text-decoration-color: #008080; font-weight: bold\"> unique items</span>\n",
              "</pre>\n"
            ]
          },
          "metadata": {}
        },
        {
          "output_type": "display_data",
          "data": {
            "text/plain": [
              "\u001b[1;36mهرمزگان - topography: collected \u001b[0m\u001b[1;36m52\u001b[0m\u001b[1;36m unique items\u001b[0m\n"
            ],
            "text/html": [
              "<pre style=\"white-space:pre;overflow-x:auto;line-height:normal;font-family:Menlo,'DejaVu Sans Mono',consolas,'Courier New',monospace\"><span style=\"color: #008080; text-decoration-color: #008080; font-weight: bold\">هرمزگان - topography: collected </span><span style=\"color: #008080; text-decoration-color: #008080; font-weight: bold\">52</span><span style=\"color: #008080; text-decoration-color: #008080; font-weight: bold\"> unique items</span>\n",
              "</pre>\n"
            ]
          },
          "metadata": {}
        },
        {
          "output_type": "display_data",
          "data": {
            "text/plain": [
              "\u001b[1;36mهرمزگان - natural_resources: collected \u001b[0m\u001b[1;36m52\u001b[0m\u001b[1;36m unique items\u001b[0m\n"
            ],
            "text/html": [
              "<pre style=\"white-space:pre;overflow-x:auto;line-height:normal;font-family:Menlo,'DejaVu Sans Mono',consolas,'Courier New',monospace\"><span style=\"color: #008080; text-decoration-color: #008080; font-weight: bold\">هرمزگان - natural_resources: collected </span><span style=\"color: #008080; text-decoration-color: #008080; font-weight: bold\">52</span><span style=\"color: #008080; text-decoration-color: #008080; font-weight: bold\"> unique items</span>\n",
              "</pre>\n"
            ]
          },
          "metadata": {}
        },
        {
          "output_type": "display_data",
          "data": {
            "text/plain": [
              "\u001b[1;36mهرمزگان - tourist_attractions: collected \u001b[0m\u001b[1;36m34\u001b[0m\u001b[1;36m unique items\u001b[0m\n"
            ],
            "text/html": [
              "<pre style=\"white-space:pre;overflow-x:auto;line-height:normal;font-family:Menlo,'DejaVu Sans Mono',consolas,'Courier New',monospace\"><span style=\"color: #008080; text-decoration-color: #008080; font-weight: bold\">هرمزگان - tourist_attractions: collected </span><span style=\"color: #008080; text-decoration-color: #008080; font-weight: bold\">34</span><span style=\"color: #008080; text-decoration-color: #008080; font-weight: bold\"> unique items</span>\n",
              "</pre>\n"
            ]
          },
          "metadata": {}
        },
        {
          "output_type": "display_data",
          "data": {
            "text/plain": [
              "\u001b[1;36mکهگیلویه و بویراحمد - geographical_features: collected \u001b[0m\u001b[1;36m46\u001b[0m\u001b[1;36m unique items\u001b[0m\n"
            ],
            "text/html": [
              "<pre style=\"white-space:pre;overflow-x:auto;line-height:normal;font-family:Menlo,'DejaVu Sans Mono',consolas,'Courier New',monospace\"><span style=\"color: #008080; text-decoration-color: #008080; font-weight: bold\">کهگیلویه و بویراحمد - geographical_features: collected </span><span style=\"color: #008080; text-decoration-color: #008080; font-weight: bold\">46</span><span style=\"color: #008080; text-decoration-color: #008080; font-weight: bold\"> unique items</span>\n",
              "</pre>\n"
            ]
          },
          "metadata": {}
        },
        {
          "output_type": "display_data",
          "data": {
            "text/plain": [
              "\u001b[1;36mکهگیلویه و بویراحمد - topography: collected \u001b[0m\u001b[1;36m38\u001b[0m\u001b[1;36m unique items\u001b[0m\n"
            ],
            "text/html": [
              "<pre style=\"white-space:pre;overflow-x:auto;line-height:normal;font-family:Menlo,'DejaVu Sans Mono',consolas,'Courier New',monospace\"><span style=\"color: #008080; text-decoration-color: #008080; font-weight: bold\">کهگیلویه و بویراحمد - topography: collected </span><span style=\"color: #008080; text-decoration-color: #008080; font-weight: bold\">38</span><span style=\"color: #008080; text-decoration-color: #008080; font-weight: bold\"> unique items</span>\n",
              "</pre>\n"
            ]
          },
          "metadata": {}
        },
        {
          "output_type": "display_data",
          "data": {
            "text/plain": [
              "\u001b[1;36mکهگیلویه و بویراحمد - natural_resources: collected \u001b[0m\u001b[1;36m38\u001b[0m\u001b[1;36m unique items\u001b[0m\n"
            ],
            "text/html": [
              "<pre style=\"white-space:pre;overflow-x:auto;line-height:normal;font-family:Menlo,'DejaVu Sans Mono',consolas,'Courier New',monospace\"><span style=\"color: #008080; text-decoration-color: #008080; font-weight: bold\">کهگیلویه و بویراحمد - natural_resources: collected </span><span style=\"color: #008080; text-decoration-color: #008080; font-weight: bold\">38</span><span style=\"color: #008080; text-decoration-color: #008080; font-weight: bold\"> unique items</span>\n",
              "</pre>\n"
            ]
          },
          "metadata": {}
        },
        {
          "output_type": "display_data",
          "data": {
            "text/plain": [
              "\u001b[33mModel call failed \u001b[0m\u001b[1;33m(\u001b[0m\u001b[33mattempt \u001b[0m\u001b[1;33m1\u001b[0m\u001b[33m/\u001b[0m\u001b[1;33m4\u001b[0m\u001b[1;33m)\u001b[0m\u001b[33m: Server error \u001b[0m\u001b[1;33m524\u001b[0m\u001b[33m. Retrying in \u001b[0m\u001b[1;33m1.\u001b[0m\u001b[33m2s\u001b[0m\n"
            ],
            "text/html": [
              "<pre style=\"white-space:pre;overflow-x:auto;line-height:normal;font-family:Menlo,'DejaVu Sans Mono',consolas,'Courier New',monospace\"><span style=\"color: #808000; text-decoration-color: #808000\">Model call failed </span><span style=\"color: #808000; text-decoration-color: #808000; font-weight: bold\">(</span><span style=\"color: #808000; text-decoration-color: #808000\">attempt </span><span style=\"color: #808000; text-decoration-color: #808000; font-weight: bold\">1</span><span style=\"color: #808000; text-decoration-color: #808000\">/</span><span style=\"color: #808000; text-decoration-color: #808000; font-weight: bold\">4</span><span style=\"color: #808000; text-decoration-color: #808000; font-weight: bold\">)</span><span style=\"color: #808000; text-decoration-color: #808000\">: Server error </span><span style=\"color: #808000; text-decoration-color: #808000; font-weight: bold\">524</span><span style=\"color: #808000; text-decoration-color: #808000\">. Retrying in </span><span style=\"color: #808000; text-decoration-color: #808000; font-weight: bold\">1.</span><span style=\"color: #808000; text-decoration-color: #808000\">2s</span>\n",
              "</pre>\n"
            ]
          },
          "metadata": {}
        },
        {
          "output_type": "display_data",
          "data": {
            "text/plain": [
              "\u001b[33mModel call failed \u001b[0m\u001b[1;33m(\u001b[0m\u001b[33mattempt \u001b[0m\u001b[1;33m2\u001b[0m\u001b[33m/\u001b[0m\u001b[1;33m4\u001b[0m\u001b[1;33m)\u001b[0m\u001b[33m: Server error \u001b[0m\u001b[1;33m524\u001b[0m\u001b[33m. Retrying in \u001b[0m\u001b[1;33m2.\u001b[0m\u001b[33m4s\u001b[0m\n"
            ],
            "text/html": [
              "<pre style=\"white-space:pre;overflow-x:auto;line-height:normal;font-family:Menlo,'DejaVu Sans Mono',consolas,'Courier New',monospace\"><span style=\"color: #808000; text-decoration-color: #808000\">Model call failed </span><span style=\"color: #808000; text-decoration-color: #808000; font-weight: bold\">(</span><span style=\"color: #808000; text-decoration-color: #808000\">attempt </span><span style=\"color: #808000; text-decoration-color: #808000; font-weight: bold\">2</span><span style=\"color: #808000; text-decoration-color: #808000\">/</span><span style=\"color: #808000; text-decoration-color: #808000; font-weight: bold\">4</span><span style=\"color: #808000; text-decoration-color: #808000; font-weight: bold\">)</span><span style=\"color: #808000; text-decoration-color: #808000\">: Server error </span><span style=\"color: #808000; text-decoration-color: #808000; font-weight: bold\">524</span><span style=\"color: #808000; text-decoration-color: #808000\">. Retrying in </span><span style=\"color: #808000; text-decoration-color: #808000; font-weight: bold\">2.</span><span style=\"color: #808000; text-decoration-color: #808000\">4s</span>\n",
              "</pre>\n"
            ]
          },
          "metadata": {}
        },
        {
          "output_type": "display_data",
          "data": {
            "text/plain": [
              "\u001b[33mModel call failed \u001b[0m\u001b[1;33m(\u001b[0m\u001b[33mattempt \u001b[0m\u001b[1;33m3\u001b[0m\u001b[33m/\u001b[0m\u001b[1;33m4\u001b[0m\u001b[1;33m)\u001b[0m\u001b[33m: Server error \u001b[0m\u001b[1;33m524\u001b[0m\u001b[33m. Retrying in \u001b[0m\u001b[1;33m4.\u001b[0m\u001b[33m3s\u001b[0m\n"
            ],
            "text/html": [
              "<pre style=\"white-space:pre;overflow-x:auto;line-height:normal;font-family:Menlo,'DejaVu Sans Mono',consolas,'Courier New',monospace\"><span style=\"color: #808000; text-decoration-color: #808000\">Model call failed </span><span style=\"color: #808000; text-decoration-color: #808000; font-weight: bold\">(</span><span style=\"color: #808000; text-decoration-color: #808000\">attempt </span><span style=\"color: #808000; text-decoration-color: #808000; font-weight: bold\">3</span><span style=\"color: #808000; text-decoration-color: #808000\">/</span><span style=\"color: #808000; text-decoration-color: #808000; font-weight: bold\">4</span><span style=\"color: #808000; text-decoration-color: #808000; font-weight: bold\">)</span><span style=\"color: #808000; text-decoration-color: #808000\">: Server error </span><span style=\"color: #808000; text-decoration-color: #808000; font-weight: bold\">524</span><span style=\"color: #808000; text-decoration-color: #808000\">. Retrying in </span><span style=\"color: #808000; text-decoration-color: #808000; font-weight: bold\">4.</span><span style=\"color: #808000; text-decoration-color: #808000\">3s</span>\n",
              "</pre>\n"
            ]
          },
          "metadata": {}
        },
        {
          "output_type": "display_data",
          "data": {
            "text/plain": [
              "\u001b[1;36mکهگیلویه و بویراحمد - tourist_attractions: collected \u001b[0m\u001b[1;36m31\u001b[0m\u001b[1;36m unique items\u001b[0m\n"
            ],
            "text/html": [
              "<pre style=\"white-space:pre;overflow-x:auto;line-height:normal;font-family:Menlo,'DejaVu Sans Mono',consolas,'Courier New',monospace\"><span style=\"color: #008080; text-decoration-color: #008080; font-weight: bold\">کهگیلویه و بویراحمد - tourist_attractions: collected </span><span style=\"color: #008080; text-decoration-color: #008080; font-weight: bold\">31</span><span style=\"color: #008080; text-decoration-color: #008080; font-weight: bold\"> unique items</span>\n",
              "</pre>\n"
            ]
          },
          "metadata": {}
        },
        {
          "output_type": "display_data",
          "data": {
            "text/plain": [
              "\u001b[1;32mSaved:\u001b[0m province_datasets/کهگیلویه_و_بویراحمد.json\n"
            ],
            "text/html": [
              "<pre style=\"white-space:pre;overflow-x:auto;line-height:normal;font-family:Menlo,'DejaVu Sans Mono',consolas,'Courier New',monospace\"><span style=\"color: #008000; text-decoration-color: #008000; font-weight: bold\">Saved:</span> province_datasets/کهگیلویه_و_بویراحمد.json\n",
              "</pre>\n"
            ]
          },
          "metadata": {}
        },
        {
          "output_type": "display_data",
          "data": {
            "text/plain": [],
            "text/html": [
              "<pre style=\"white-space:pre;overflow-x:auto;line-height:normal;font-family:Menlo,'DejaVu Sans Mono',consolas,'Courier New',monospace\"></pre>\n"
            ]
          },
          "metadata": {}
        }
      ],
      "source": [
        "asyncio.run(main())"
      ]
    },
    {
      "cell_type": "code",
      "execution_count": 15,
      "metadata": {
        "id": "EL72dTqWSkaG"
      },
      "outputs": [],
      "source": [
        "import os\n",
        "import re\n",
        "import json\n",
        "import zipfile\n",
        "import logging\n",
        "from collections import defaultdict\n",
        "from typing import Optional, Dict, List, Tuple\n",
        "import matplotlib.pyplot as plt\n",
        "import csv"
      ]
    },
    {
      "cell_type": "code",
      "execution_count": 19,
      "metadata": {
        "id": "OskToz2JRQlm"
      },
      "outputs": [],
      "source": [
        "class ProvinceDataAnalyzer:\n",
        "    def __init__(\n",
        "        self,\n",
        "        input_dir: str,\n",
        "        output_dir: str,\n",
        "        zip_filename: str,\n",
        "        exclude_fields: Optional[List[str]] = None,\n",
        "        logger: Optional[logging.Logger] = None,\n",
        "    ):\n",
        "        self.input_dir = input_dir\n",
        "        self.output_dir = output_dir\n",
        "        self.zip_filename = zip_filename\n",
        "        self.exclude_fields = exclude_fields or [\n",
        "            \"additional_info\",\n",
        "            \"title\",\n",
        "            \"location.province\",\n",
        "            \"location.city\",\n",
        "        ]\n",
        "        self.logger = logger or self._default_logger()\n",
        "        os.makedirs(self.output_dir, exist_ok=True)\n",
        "\n",
        "    def _default_logger(self) -> logging.Logger:\n",
        "        logger = logging.getLogger(__name__)\n",
        "        if not logger.handlers:\n",
        "            handler = logging.StreamHandler()\n",
        "            formatter = logging.Formatter(\"%(asctime)s - %(levelname)s - %(message)s\")\n",
        "            handler.setFormatter(formatter)\n",
        "            logger.addHandler(handler)\n",
        "            logger.setLevel(logging.INFO)\n",
        "        return logger\n",
        "\n",
        "    @staticmethod\n",
        "    def _count_words(text: str) -> int:\n",
        "        if not isinstance(text, str):\n",
        "            return 0\n",
        "        return len(re.findall(r\"\\S+\", text))\n",
        "\n",
        "    def _is_excluded(self, field_path: str) -> bool:\n",
        "        return any(\n",
        "            field_path == excl or field_path.startswith(f\"{excl}.\")\n",
        "            for excl in self.exclude_fields\n",
        "        )\n",
        "\n",
        "    def _process_data(self, data: dict) -> Tuple[int, int, Dict[str, List[int]]]:\n",
        "        total_records = 0\n",
        "        total_words = 0\n",
        "        field_lengths: Dict[str, List[int]] = defaultdict(list)\n",
        "\n",
        "        def walk(value, field_path=\"\"):\n",
        "            nonlocal total_records, total_words\n",
        "            if self._is_excluded(field_path):\n",
        "                return\n",
        "            if isinstance(value, str):\n",
        "                words = self._count_words(value)\n",
        "                total_words += words\n",
        "                field_lengths[field_path].append(words)\n",
        "            elif isinstance(value, dict):\n",
        "                for key, val in value.items():\n",
        "                    new_path = f\"{field_path}.{key}\" if field_path else key\n",
        "                    walk(val, new_path)\n",
        "            elif isinstance(value, list):\n",
        "                for item in value:\n",
        "                    if isinstance(item, dict):\n",
        "                        total_records += 1\n",
        "                    walk(item, field_path)\n",
        "\n",
        "        walk(data)\n",
        "        return total_records, total_words, field_lengths\n",
        "\n",
        "    def _slug(self, s: str) -> str:\n",
        "        return re.sub(r\"[^A-Za-z0-9_.-]+\", \"_\", s).strip(\"_\") or \"plot\"\n",
        "\n",
        "    def _plot_field_averages(self, province: str, field_lengths: Dict[str, List[int]]) -> str:\n",
        "        averages = {field: (sum(lengths) / len(lengths)) for field, lengths in field_lengths.items() if lengths}\n",
        "        sorted_items = sorted(averages.items(), key=lambda kv: kv[1])\n",
        "        if not sorted_items:\n",
        "            return \"\"\n",
        "        fields, avg_counts = zip(*sorted_items)\n",
        "        plt.figure(figsize=(12, 6))\n",
        "        plt.barh(fields, avg_counts)\n",
        "        plt.xlabel('Average Word Count')\n",
        "        plt.title(f'Average Word Count per Field - {province}')\n",
        "        plt.tight_layout()\n",
        "        plt.grid(axis='x')\n",
        "        filename = f\"{self._slug(province)}_field_word_counts.png\"\n",
        "        output_path = os.path.join(self.output_dir, filename)\n",
        "        plt.savefig(output_path, dpi=300, bbox_inches='tight')\n",
        "        plt.close()\n",
        "        self.logger.info(f\"Plot saved: {output_path}\")\n",
        "        return output_path\n",
        "\n",
        "    def _zip_plots(self) -> str:\n",
        "        zip_path = os.path.join(self.output_dir, self.zip_filename)\n",
        "        with zipfile.ZipFile(zip_path, 'w', zipfile.ZIP_DEFLATED) as zipf:\n",
        "            for file in os.listdir(self.output_dir):\n",
        "                if file.endswith('.png'):\n",
        "                    zipf.write(os.path.join(self.output_dir, file), file)\n",
        "        self.logger.info(f\"All plots zipped into: {zip_path}\")\n",
        "        return zip_path\n",
        "\n",
        "    def analyze(self):\n",
        "        self.logger.info(\"STARTING ANALYSIS\")\n",
        "        summary_rows = []\n",
        "        field_avg_rows = []\n",
        "        for filename in os.listdir(self.input_dir):\n",
        "            if not filename.lower().endswith('.json'):\n",
        "                continue\n",
        "            province = os.path.splitext(filename)[0]\n",
        "            file_path = os.path.join(self.input_dir, filename)\n",
        "            with open(file_path, 'r', encoding='utf-8') as f:\n",
        "                data = json.load(f)\n",
        "            rec_count, word_count, field_lengths = self._process_data(data)\n",
        "            summary_rows.append({\n",
        "                \"province\": province,\n",
        "                \"total_records\": rec_count,\n",
        "                \"total_words\": word_count,\n",
        "            })\n",
        "            for field, lengths in field_lengths.items():\n",
        "                if not lengths:\n",
        "                    continue\n",
        "                avg = sum(lengths) / len(lengths)\n",
        "                field_avg_rows.append({\n",
        "                    \"province\": province,\n",
        "                    \"field\": field,\n",
        "                    \"avg_word_count\": round(avg, 4),\n",
        "                    \"samples\": len(lengths),\n",
        "                })\n",
        "            self._plot_field_averages(province, field_lengths)\n",
        "        summary_path = os.path.join(self.output_dir, \"summary_by_province.csv\")\n",
        "        with open(summary_path, \"w\", newline=\"\", encoding=\"utf-8\") as f:\n",
        "            writer = csv.DictWriter(f, fieldnames=[\"province\", \"total_records\", \"total_words\"])\n",
        "            writer.writeheader()\n",
        "            writer.writerows(summary_rows)\n",
        "        field_avg_path = os.path.join(self.output_dir, \"field_averages_long.csv\")\n",
        "        with open(field_avg_path, \"w\", newline=\"\", encoding=\"utf-8\") as f:\n",
        "            writer = csv.DictWriter(f, fieldnames=[\"province\", \"field\", \"avg_word_count\", \"samples\"])\n",
        "            writer.writeheader()\n",
        "            writer.writerows(field_avg_rows)\n",
        "        self.logger.info(f\"Wrote tables: {summary_path}, {field_avg_path}\")\n",
        "        self.logger.info(\"CREATING ZIP ARCHIVE OF PLOTS\")\n",
        "        self._zip_plots()\n",
        "        self.logger.info(\"ANALYSIS COMPLETE\")"
      ]
    },
    {
      "cell_type": "code",
      "execution_count": 20,
      "metadata": {
        "id": "m881WjutSopP",
        "colab": {
          "base_uri": "https://localhost:8080/"
        },
        "outputId": "03abe79f-15d8-4085-f3db-e44bb4de4129"
      },
      "outputs": [
        {
          "output_type": "stream",
          "name": "stderr",
          "text": [
            "2025-08-08 20:40:17,905 - INFO - STARTING ANALYSIS\n",
            "INFO:__main__:STARTING ANALYSIS\n",
            "2025-08-08 20:40:18,583 - INFO - Plot saved: results/Chahar_Mahal_Bakhtiari_field_word_counts.png\n",
            "INFO:__main__:Plot saved: results/Chahar_Mahal_Bakhtiari_field_word_counts.png\n",
            "2025-08-08 20:40:19,266 - INFO - Plot saved: results/Kohgiluyeh_and_Boyerahmad_field_word_counts.png\n",
            "INFO:__main__:Plot saved: results/Kohgiluyeh_and_Boyerahmad_field_word_counts.png\n",
            "2025-08-08 20:40:19,936 - INFO - Plot saved: results/Boushehr_field_word_counts.png\n",
            "INFO:__main__:Plot saved: results/Boushehr_field_word_counts.png\n",
            "2025-08-08 20:40:20,629 - INFO - Plot saved: results/Fars_field_word_counts.png\n",
            "INFO:__main__:Plot saved: results/Fars_field_word_counts.png\n",
            "2025-08-08 20:40:21,329 - INFO - Plot saved: results/Isfahan_field_word_counts.png\n",
            "INFO:__main__:Plot saved: results/Isfahan_field_word_counts.png\n",
            "2025-08-08 20:40:22,288 - INFO - Plot saved: results/Hormozgan_field_word_counts.png\n",
            "INFO:__main__:Plot saved: results/Hormozgan_field_word_counts.png\n",
            "2025-08-08 20:40:22,291 - INFO - Wrote tables: results/summary_by_province.csv, results/field_averages_long.csv\n",
            "INFO:__main__:Wrote tables: results/summary_by_province.csv, results/field_averages_long.csv\n",
            "2025-08-08 20:40:22,293 - INFO - CREATING ZIP ARCHIVE OF PLOTS\n",
            "INFO:__main__:CREATING ZIP ARCHIVE OF PLOTS\n",
            "2025-08-08 20:40:22,419 - INFO - All plots zipped into: results/results.zip\n",
            "INFO:__main__:All plots zipped into: results/results.zip\n",
            "2025-08-08 20:40:22,421 - INFO - ANALYSIS COMPLETE\n",
            "INFO:__main__:ANALYSIS COMPLETE\n"
          ]
        }
      ],
      "source": [
        "analyzer = ProvinceDataAnalyzer(input_dir='province_datasets', output_dir='Stats', zip_filename='Stats.zip')\n",
        "analyzer.analyze()"
      ]
    },
    {
      "cell_type": "code",
      "source": [
        "!rm -rf results"
      ],
      "metadata": {
        "id": "k740JLF7Yo2W"
      },
      "execution_count": 18,
      "outputs": []
    },
    {
      "cell_type": "code",
      "source": [],
      "metadata": {
        "id": "b6e_8o-IYqPD"
      },
      "execution_count": null,
      "outputs": []
    }
  ],
  "metadata": {
    "colab": {
      "provenance": []
    },
    "kernelspec": {
      "display_name": "Python 3",
      "name": "python3"
    },
    "language_info": {
      "name": "python"
    },
    "widgets": {
      "application/vnd.jupyter.widget-state+json": {
        "e419b6bcf9a14b739b2e7f0eb68e8a5e": {
          "model_module": "@jupyter-widgets/output",
          "model_name": "OutputModel",
          "model_module_version": "1.0.0",
          "state": {
            "_dom_classes": [],
            "_model_module": "@jupyter-widgets/output",
            "_model_module_version": "1.0.0",
            "_model_name": "OutputModel",
            "_view_count": null,
            "_view_module": "@jupyter-widgets/output",
            "_view_module_version": "1.0.0",
            "_view_name": "OutputView",
            "layout": "IPY_MODEL_6eb8a20508824180bf8eec482cd8a45b",
            "msg_id": "",
            "outputs": [
              {
                "output_type": "display_data",
                "data": {
                  "text/plain": "\u001b[32m⠏\u001b[0m Processing all provinces                    \u001b[38;2;249;38;114m━━━━━━━━━━━━━━━━━━━━━━━━━━━━━━━━━━━━━━━━━━━━\u001b[0m\u001b[38;5;237m╺\u001b[0m\u001b[38;5;237m━━━━━━━━\u001b[0m \u001b[33m1:37:44\u001b[0m \u001b[36m-:--:--\u001b[0m\n  Fetching resources for فارس                 \u001b[38;2;114;156;31m━━━━━━━━━━━━━━━━━━━━━━━━━━━━━━━━━━━━━━━━━━━━━━━━━━━━━\u001b[0m \u001b[33m0:00:20\u001b[0m \u001b[36m0:00:00\u001b[0m\n  فارس - geographical_features                \u001b[38;2;114;156;31m━━━━━━━━━━━━━━━━━━━━━━━━━━━━━━━━━━━━━━━━━━━━━━━━━━━━━\u001b[0m \u001b[33m0:05:19\u001b[0m \u001b[36m0:00:00\u001b[0m\n  فارس - topography                           \u001b[38;2;114;156;31m━━━━━━━━━━━━━━━━━━━━━━━━━━━━━━━━━━━━━━━━━━━━━━━━━━━━━\u001b[0m \u001b[33m0:04:13\u001b[0m \u001b[36m0:00:00\u001b[0m\n  فارس - natural_resources                    \u001b[38;2;114;156;31m━━━━━━━━━━━━━━━━━━━━━━━━━━━━━━━━━━━━━━━━━━━━━━━━━━━━━\u001b[0m \u001b[33m0:02:28\u001b[0m \u001b[36m0:00:00\u001b[0m\n  فارس - tourist_attractions                  \u001b[38;2;114;156;31m━━━━━━━━━━━━━━━━━━━━━━━━━━━━━━━━━━━━━━━━━━━━━━━━━━━━━\u001b[0m \u001b[33m0:03:31\u001b[0m \u001b[36m0:00:00\u001b[0m\n  Fetching resources for اصفهان               \u001b[38;2;114;156;31m━━━━━━━━━━━━━━━━━━━━━━━━━━━━━━━━━━━━━━━━━━━━━━━━━━━━━\u001b[0m \u001b[33m0:00:20\u001b[0m \u001b[36m0:00:00\u001b[0m\n  اصفهان - geographical_features              \u001b[38;2;114;156;31m━━━━━━━━━━━━━━━━━━━━━━━━━━━━━━━━━━━━━━━━━━━━━━━━━━━━━\u001b[0m \u001b[33m0:04:21\u001b[0m \u001b[36m0:00:00\u001b[0m\n  اصفهان - topography                         \u001b[38;2;114;156;31m━━━━━━━━━━━━━━━━━━━━━━━━━━━━━━━━━━━━━━━━━━━━━━━━━━━━━\u001b[0m \u001b[33m0:03:45\u001b[0m \u001b[36m0:00:00\u001b[0m\n  اصفهان - natural_resources                  \u001b[38;2;114;156;31m━━━━━━━━━━━━━━━━━━━━━━━━━━━━━━━━━━━━━━━━━━━━━━━━━━━━━\u001b[0m \u001b[33m0:02:52\u001b[0m \u001b[36m0:00:00\u001b[0m\n  اصفهان - tourist_attractions                \u001b[38;2;114;156;31m━━━━━━━━━━━━━━━━━━━━━━━━━━━━━━━━━━━━━━━━━━━━━━━━━━━━━\u001b[0m \u001b[33m0:03:18\u001b[0m \u001b[36m0:00:00\u001b[0m\n  Fetching resources for بوشهر                \u001b[38;2;114;156;31m━━━━━━━━━━━━━━━━━━━━━━━━━━━━━━━━━━━━━━━━━━━━━━━━━━━━━\u001b[0m \u001b[33m0:00:20\u001b[0m \u001b[36m0:00:00\u001b[0m\n  بوشهر - geographical_features               \u001b[38;2;114;156;31m━━━━━━━━━━━━━━━━━━━━━━━━━━━━━━━━━━━━━━━━━━━━━━━━━━━━━\u001b[0m \u001b[33m0:03:14\u001b[0m \u001b[36m0:00:00\u001b[0m\n  بوشهر - topography                          \u001b[38;2;114;156;31m━━━━━━━━━━━━━━━━━━━━━━━━━━━━━━━━━━━━━━━━━━━━━━━━━━━━━\u001b[0m \u001b[33m0:02:06\u001b[0m \u001b[36m0:00:00\u001b[0m\n  بوشهر - natural_resources                   \u001b[38;2;114;156;31m━━━━━━━━━━━━━━━━━━━━━━━━━━━━━━━━━━━━━━━━━━━━━━━━━━━━━\u001b[0m \u001b[33m0:02:42\u001b[0m \u001b[36m0:00:00\u001b[0m\n  بوشهر - tourist_attractions                 \u001b[38;2;114;156;31m━━━━━━━━━━━━━━━━━━━━━━━━━━━━━━━━━━━━━━━━━━━━━━━━━━━━━\u001b[0m \u001b[33m0:03:02\u001b[0m \u001b[36m0:00:00\u001b[0m\n  Fetching resources for چهارمحال و بختیاری   \u001b[38;2;114;156;31m━━━━━━━━━━━━━━━━━━━━━━━━━━━━━━━━━━━━━━━━━━━━━━━━━━━━━\u001b[0m \u001b[33m0:00:20\u001b[0m \u001b[36m0:00:00\u001b[0m\n  چهارمحال و بختیاری - geographical_features  \u001b[38;2;114;156;31m━━━━━━━━━━━━━━━━━━━━━━━━━━━━━━━━━━━━━━━━━━━━━━━━━━━━━\u001b[0m \u001b[33m0:04:30\u001b[0m \u001b[36m0:00:00\u001b[0m\n  چهارمحال و بختیاری - topography             \u001b[38;2;114;156;31m━━━━━━━━━━━━━━━━━━━━━━━━━━━━━━━━━━━━━━━━━━━━━━━━━━━━━\u001b[0m \u001b[33m0:03:19\u001b[0m \u001b[36m0:00:00\u001b[0m\n  چهارمحال و بختیاری - natural_resources      \u001b[38;2;114;156;31m━━━━━━━━━━━━━━━━━━━━━━━━━━━━━━━━━━━━━━━━━━━━━━━━━━━━━\u001b[0m \u001b[33m0:03:47\u001b[0m \u001b[36m0:00:00\u001b[0m\n  چهارمحال و بختیاری - tourist_attractions    \u001b[38;2;114;156;31m━━━━━━━━━━━━━━━━━━━━━━━━━━━━━━━━━━━━━━━━━━━━━━━━━━━━━\u001b[0m \u001b[33m0:08:36\u001b[0m \u001b[36m0:00:00\u001b[0m\n  Fetching resources for هرمزگان              \u001b[38;2;114;156;31m━━━━━━━━━━━━━━━━━━━━━━━━━━━━━━━━━━━━━━━━━━━━━━━━━━━━━\u001b[0m \u001b[33m0:00:20\u001b[0m \u001b[36m0:00:00\u001b[0m\n  هرمزگان - geographical_features             \u001b[38;2;114;156;31m━━━━━━━━━━━━━━━━━━━━━━━━━━━━━━━━━━━━━━━━━━━━━━━━━━━━━\u001b[0m \u001b[33m0:03:24\u001b[0m \u001b[36m0:00:00\u001b[0m\n  هرمزگان - topography                        \u001b[38;2;114;156;31m━━━━━━━━━━━━━━━━━━━━━━━━━━━━━━━━━━━━━━━━━━━━━━━━━━━━━\u001b[0m \u001b[33m0:02:17\u001b[0m \u001b[36m0:00:00\u001b[0m\n  هرمزگان - natural_resources                 \u001b[38;2;114;156;31m━━━━━━━━━━━━━━━━━━━━━━━━━━━━━━━━━━━━━━━━━━━━━━━━━━━━━\u001b[0m \u001b[33m0:02:38\u001b[0m \u001b[36m0:00:00\u001b[0m\n  هرمزگان - tourist_attractions               \u001b[38;2;114;156;31m━━━━━━━━━━━━━━━━━━━━━━━━━━━━━━━━━━━━━━━━━━━━━━━━━━━━━\u001b[0m \u001b[33m0:03:31\u001b[0m \u001b[36m0:00:00\u001b[0m\n  Fetching resources for کهگیلویه و بویراحمد  \u001b[38;2;114;156;31m━━━━━━━━━━━━━━━━━━━━━━━━━━━━━━━━━━━━━━━━━━━━━━━━━━━━━\u001b[0m \u001b[33m0:00:20\u001b[0m \u001b[36m0:00:00\u001b[0m\n  کهگیلویه و بویراحمد - geographical_features \u001b[38;2;114;156;31m━━━━━━━━━━━━━━━━━━━━━━━━━━━━━━━━━━━━━━━━━━━━━━━━━━━━━\u001b[0m \u001b[33m0:03:15\u001b[0m \u001b[36m0:00:00\u001b[0m\n  کهگیلویه و بویراحمد - topography            \u001b[38;2;114;156;31m━━━━━━━━━━━━━━━━━━━━━━━━━━━━━━━━━━━━━━━━━━━━━━━━━━━━━\u001b[0m \u001b[33m0:06:48\u001b[0m \u001b[36m0:00:00\u001b[0m\n  کهگیلویه و بویراحمد - natural_resources     \u001b[38;2;114;156;31m━━━━━━━━━━━━━━━━━━━━━━━━━━━━━━━━━━━━━━━━━━━━━━━━━━━━━\u001b[0m \u001b[33m0:03:19\u001b[0m \u001b[36m0:00:00\u001b[0m\n\u001b[32m⠏\u001b[0m کهگیلویه و بویراحمد - tourist_attractions   \u001b[38;5;237m━━━━━━━━━━━━━━━━━━━━━━━━━━━━━━━━━━━━━━━━━━━━━━━━━━━━━\u001b[0m \u001b[33m0:09:05\u001b[0m \u001b[36m-:--:--\u001b[0m\n",
                  "text/html": "<pre style=\"white-space:pre;overflow-x:auto;line-height:normal;font-family:Menlo,'DejaVu Sans Mono',consolas,'Courier New',monospace\"><span style=\"color: #008000; text-decoration-color: #008000\">⠏</span> Processing all provinces                    <span style=\"color: #f92672; text-decoration-color: #f92672\">━━━━━━━━━━━━━━━━━━━━━━━━━━━━━━━━━━━━━━━━━━━━</span><span style=\"color: #3a3a3a; text-decoration-color: #3a3a3a\">╺━━━━━━━━</span> <span style=\"color: #808000; text-decoration-color: #808000\">1:37:44</span> <span style=\"color: #008080; text-decoration-color: #008080\">-:--:--</span>\n  Fetching resources for فارس                 <span style=\"color: #729c1f; text-decoration-color: #729c1f\">━━━━━━━━━━━━━━━━━━━━━━━━━━━━━━━━━━━━━━━━━━━━━━━━━━━━━</span> <span style=\"color: #808000; text-decoration-color: #808000\">0:00:20</span> <span style=\"color: #008080; text-decoration-color: #008080\">0:00:00</span>\n  فارس - geographical_features                <span style=\"color: #729c1f; text-decoration-color: #729c1f\">━━━━━━━━━━━━━━━━━━━━━━━━━━━━━━━━━━━━━━━━━━━━━━━━━━━━━</span> <span style=\"color: #808000; text-decoration-color: #808000\">0:05:19</span> <span style=\"color: #008080; text-decoration-color: #008080\">0:00:00</span>\n  فارس - topography                           <span style=\"color: #729c1f; text-decoration-color: #729c1f\">━━━━━━━━━━━━━━━━━━━━━━━━━━━━━━━━━━━━━━━━━━━━━━━━━━━━━</span> <span style=\"color: #808000; text-decoration-color: #808000\">0:04:13</span> <span style=\"color: #008080; text-decoration-color: #008080\">0:00:00</span>\n  فارس - natural_resources                    <span style=\"color: #729c1f; text-decoration-color: #729c1f\">━━━━━━━━━━━━━━━━━━━━━━━━━━━━━━━━━━━━━━━━━━━━━━━━━━━━━</span> <span style=\"color: #808000; text-decoration-color: #808000\">0:02:28</span> <span style=\"color: #008080; text-decoration-color: #008080\">0:00:00</span>\n  فارس - tourist_attractions                  <span style=\"color: #729c1f; text-decoration-color: #729c1f\">━━━━━━━━━━━━━━━━━━━━━━━━━━━━━━━━━━━━━━━━━━━━━━━━━━━━━</span> <span style=\"color: #808000; text-decoration-color: #808000\">0:03:31</span> <span style=\"color: #008080; text-decoration-color: #008080\">0:00:00</span>\n  Fetching resources for اصفهان               <span style=\"color: #729c1f; text-decoration-color: #729c1f\">━━━━━━━━━━━━━━━━━━━━━━━━━━━━━━━━━━━━━━━━━━━━━━━━━━━━━</span> <span style=\"color: #808000; text-decoration-color: #808000\">0:00:20</span> <span style=\"color: #008080; text-decoration-color: #008080\">0:00:00</span>\n  اصفهان - geographical_features              <span style=\"color: #729c1f; text-decoration-color: #729c1f\">━━━━━━━━━━━━━━━━━━━━━━━━━━━━━━━━━━━━━━━━━━━━━━━━━━━━━</span> <span style=\"color: #808000; text-decoration-color: #808000\">0:04:21</span> <span style=\"color: #008080; text-decoration-color: #008080\">0:00:00</span>\n  اصفهان - topography                         <span style=\"color: #729c1f; text-decoration-color: #729c1f\">━━━━━━━━━━━━━━━━━━━━━━━━━━━━━━━━━━━━━━━━━━━━━━━━━━━━━</span> <span style=\"color: #808000; text-decoration-color: #808000\">0:03:45</span> <span style=\"color: #008080; text-decoration-color: #008080\">0:00:00</span>\n  اصفهان - natural_resources                  <span style=\"color: #729c1f; text-decoration-color: #729c1f\">━━━━━━━━━━━━━━━━━━━━━━━━━━━━━━━━━━━━━━━━━━━━━━━━━━━━━</span> <span style=\"color: #808000; text-decoration-color: #808000\">0:02:52</span> <span style=\"color: #008080; text-decoration-color: #008080\">0:00:00</span>\n  اصفهان - tourist_attractions                <span style=\"color: #729c1f; text-decoration-color: #729c1f\">━━━━━━━━━━━━━━━━━━━━━━━━━━━━━━━━━━━━━━━━━━━━━━━━━━━━━</span> <span style=\"color: #808000; text-decoration-color: #808000\">0:03:18</span> <span style=\"color: #008080; text-decoration-color: #008080\">0:00:00</span>\n  Fetching resources for بوشهر                <span style=\"color: #729c1f; text-decoration-color: #729c1f\">━━━━━━━━━━━━━━━━━━━━━━━━━━━━━━━━━━━━━━━━━━━━━━━━━━━━━</span> <span style=\"color: #808000; text-decoration-color: #808000\">0:00:20</span> <span style=\"color: #008080; text-decoration-color: #008080\">0:00:00</span>\n  بوشهر - geographical_features               <span style=\"color: #729c1f; text-decoration-color: #729c1f\">━━━━━━━━━━━━━━━━━━━━━━━━━━━━━━━━━━━━━━━━━━━━━━━━━━━━━</span> <span style=\"color: #808000; text-decoration-color: #808000\">0:03:14</span> <span style=\"color: #008080; text-decoration-color: #008080\">0:00:00</span>\n  بوشهر - topography                          <span style=\"color: #729c1f; text-decoration-color: #729c1f\">━━━━━━━━━━━━━━━━━━━━━━━━━━━━━━━━━━━━━━━━━━━━━━━━━━━━━</span> <span style=\"color: #808000; text-decoration-color: #808000\">0:02:06</span> <span style=\"color: #008080; text-decoration-color: #008080\">0:00:00</span>\n  بوشهر - natural_resources                   <span style=\"color: #729c1f; text-decoration-color: #729c1f\">━━━━━━━━━━━━━━━━━━━━━━━━━━━━━━━━━━━━━━━━━━━━━━━━━━━━━</span> <span style=\"color: #808000; text-decoration-color: #808000\">0:02:42</span> <span style=\"color: #008080; text-decoration-color: #008080\">0:00:00</span>\n  بوشهر - tourist_attractions                 <span style=\"color: #729c1f; text-decoration-color: #729c1f\">━━━━━━━━━━━━━━━━━━━━━━━━━━━━━━━━━━━━━━━━━━━━━━━━━━━━━</span> <span style=\"color: #808000; text-decoration-color: #808000\">0:03:02</span> <span style=\"color: #008080; text-decoration-color: #008080\">0:00:00</span>\n  Fetching resources for چهارمحال و بختیاری   <span style=\"color: #729c1f; text-decoration-color: #729c1f\">━━━━━━━━━━━━━━━━━━━━━━━━━━━━━━━━━━━━━━━━━━━━━━━━━━━━━</span> <span style=\"color: #808000; text-decoration-color: #808000\">0:00:20</span> <span style=\"color: #008080; text-decoration-color: #008080\">0:00:00</span>\n  چهارمحال و بختیاری - geographical_features  <span style=\"color: #729c1f; text-decoration-color: #729c1f\">━━━━━━━━━━━━━━━━━━━━━━━━━━━━━━━━━━━━━━━━━━━━━━━━━━━━━</span> <span style=\"color: #808000; text-decoration-color: #808000\">0:04:30</span> <span style=\"color: #008080; text-decoration-color: #008080\">0:00:00</span>\n  چهارمحال و بختیاری - topography             <span style=\"color: #729c1f; text-decoration-color: #729c1f\">━━━━━━━━━━━━━━━━━━━━━━━━━━━━━━━━━━━━━━━━━━━━━━━━━━━━━</span> <span style=\"color: #808000; text-decoration-color: #808000\">0:03:19</span> <span style=\"color: #008080; text-decoration-color: #008080\">0:00:00</span>\n  چهارمحال و بختیاری - natural_resources      <span style=\"color: #729c1f; text-decoration-color: #729c1f\">━━━━━━━━━━━━━━━━━━━━━━━━━━━━━━━━━━━━━━━━━━━━━━━━━━━━━</span> <span style=\"color: #808000; text-decoration-color: #808000\">0:03:47</span> <span style=\"color: #008080; text-decoration-color: #008080\">0:00:00</span>\n  چهارمحال و بختیاری - tourist_attractions    <span style=\"color: #729c1f; text-decoration-color: #729c1f\">━━━━━━━━━━━━━━━━━━━━━━━━━━━━━━━━━━━━━━━━━━━━━━━━━━━━━</span> <span style=\"color: #808000; text-decoration-color: #808000\">0:08:36</span> <span style=\"color: #008080; text-decoration-color: #008080\">0:00:00</span>\n  Fetching resources for هرمزگان              <span style=\"color: #729c1f; text-decoration-color: #729c1f\">━━━━━━━━━━━━━━━━━━━━━━━━━━━━━━━━━━━━━━━━━━━━━━━━━━━━━</span> <span style=\"color: #808000; text-decoration-color: #808000\">0:00:20</span> <span style=\"color: #008080; text-decoration-color: #008080\">0:00:00</span>\n  هرمزگان - geographical_features             <span style=\"color: #729c1f; text-decoration-color: #729c1f\">━━━━━━━━━━━━━━━━━━━━━━━━━━━━━━━━━━━━━━━━━━━━━━━━━━━━━</span> <span style=\"color: #808000; text-decoration-color: #808000\">0:03:24</span> <span style=\"color: #008080; text-decoration-color: #008080\">0:00:00</span>\n  هرمزگان - topography                        <span style=\"color: #729c1f; text-decoration-color: #729c1f\">━━━━━━━━━━━━━━━━━━━━━━━━━━━━━━━━━━━━━━━━━━━━━━━━━━━━━</span> <span style=\"color: #808000; text-decoration-color: #808000\">0:02:17</span> <span style=\"color: #008080; text-decoration-color: #008080\">0:00:00</span>\n  هرمزگان - natural_resources                 <span style=\"color: #729c1f; text-decoration-color: #729c1f\">━━━━━━━━━━━━━━━━━━━━━━━━━━━━━━━━━━━━━━━━━━━━━━━━━━━━━</span> <span style=\"color: #808000; text-decoration-color: #808000\">0:02:38</span> <span style=\"color: #008080; text-decoration-color: #008080\">0:00:00</span>\n  هرمزگان - tourist_attractions               <span style=\"color: #729c1f; text-decoration-color: #729c1f\">━━━━━━━━━━━━━━━━━━━━━━━━━━━━━━━━━━━━━━━━━━━━━━━━━━━━━</span> <span style=\"color: #808000; text-decoration-color: #808000\">0:03:31</span> <span style=\"color: #008080; text-decoration-color: #008080\">0:00:00</span>\n  Fetching resources for کهگیلویه و بویراحمد  <span style=\"color: #729c1f; text-decoration-color: #729c1f\">━━━━━━━━━━━━━━━━━━━━━━━━━━━━━━━━━━━━━━━━━━━━━━━━━━━━━</span> <span style=\"color: #808000; text-decoration-color: #808000\">0:00:20</span> <span style=\"color: #008080; text-decoration-color: #008080\">0:00:00</span>\n  کهگیلویه و بویراحمد - geographical_features <span style=\"color: #729c1f; text-decoration-color: #729c1f\">━━━━━━━━━━━━━━━━━━━━━━━━━━━━━━━━━━━━━━━━━━━━━━━━━━━━━</span> <span style=\"color: #808000; text-decoration-color: #808000\">0:03:15</span> <span style=\"color: #008080; text-decoration-color: #008080\">0:00:00</span>\n  کهگیلویه و بویراحمد - topography            <span style=\"color: #729c1f; text-decoration-color: #729c1f\">━━━━━━━━━━━━━━━━━━━━━━━━━━━━━━━━━━━━━━━━━━━━━━━━━━━━━</span> <span style=\"color: #808000; text-decoration-color: #808000\">0:06:48</span> <span style=\"color: #008080; text-decoration-color: #008080\">0:00:00</span>\n  کهگیلویه و بویراحمد - natural_resources     <span style=\"color: #729c1f; text-decoration-color: #729c1f\">━━━━━━━━━━━━━━━━━━━━━━━━━━━━━━━━━━━━━━━━━━━━━━━━━━━━━</span> <span style=\"color: #808000; text-decoration-color: #808000\">0:03:19</span> <span style=\"color: #008080; text-decoration-color: #008080\">0:00:00</span>\n<span style=\"color: #008000; text-decoration-color: #008000\">⠏</span> کهگیلویه و بویراحمد - tourist_attractions   <span style=\"color: #3a3a3a; text-decoration-color: #3a3a3a\">━━━━━━━━━━━━━━━━━━━━━━━━━━━━━━━━━━━━━━━━━━━━━━━━━━━━━</span> <span style=\"color: #808000; text-decoration-color: #808000\">0:09:05</span> <span style=\"color: #008080; text-decoration-color: #008080\">-:--:--</span>\n</pre>\n"
                },
                "metadata": {}
              }
            ]
          }
        },
        "6eb8a20508824180bf8eec482cd8a45b": {
          "model_module": "@jupyter-widgets/base",
          "model_name": "LayoutModel",
          "model_module_version": "1.2.0",
          "state": {
            "_model_module": "@jupyter-widgets/base",
            "_model_module_version": "1.2.0",
            "_model_name": "LayoutModel",
            "_view_count": null,
            "_view_module": "@jupyter-widgets/base",
            "_view_module_version": "1.2.0",
            "_view_name": "LayoutView",
            "align_content": null,
            "align_items": null,
            "align_self": null,
            "border": null,
            "bottom": null,
            "display": null,
            "flex": null,
            "flex_flow": null,
            "grid_area": null,
            "grid_auto_columns": null,
            "grid_auto_flow": null,
            "grid_auto_rows": null,
            "grid_column": null,
            "grid_gap": null,
            "grid_row": null,
            "grid_template_areas": null,
            "grid_template_columns": null,
            "grid_template_rows": null,
            "height": null,
            "justify_content": null,
            "justify_items": null,
            "left": null,
            "margin": null,
            "max_height": null,
            "max_width": null,
            "min_height": null,
            "min_width": null,
            "object_fit": null,
            "object_position": null,
            "order": null,
            "overflow": null,
            "overflow_x": null,
            "overflow_y": null,
            "padding": null,
            "right": null,
            "top": null,
            "visibility": null,
            "width": null
          }
        }
      }
    }
  },
  "nbformat": 4,
  "nbformat_minor": 0
}